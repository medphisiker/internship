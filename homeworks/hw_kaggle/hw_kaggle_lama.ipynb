{
  "cells": [
    {
      "attachments": {},
      "cell_type": "markdown",
      "metadata": {
        "id": "6dfpNQmSYoLh"
      },
      "source": [
        "# Мое решение Задачи 2 \"Спрос на бронирование отелей\""
      ]
    },
    {
      "attachments": {},
      "cell_type": "markdown",
      "metadata": {},
      "source": [
        "Я работаю на удаленном сервер с ГПУ через VS code. Поэтому у меня нет кода который загружает или скачивает данные с Google Colab."
      ]
    },
    {
      "attachments": {},
      "cell_type": "markdown",
      "metadata": {
        "id": "ymzo6h93YvO8"
      },
      "source": [
        "Данные содержат сведения о спросе на отели. Датасет содержит 119 390 наблюдений. Каждое наблюдение представляет собой бронирование отеля. Набор данных учитывает бронирования, которые должны прибыть в период с 1 июля 2015 года по 31 августа 2017 года, включая фактически поступившие и отмененные бронирования.\n",
        "\n",
        "Данные содержат сведения о **70 146** отелях.\n",
        "- Тренировочный набор - **44 634 строк**.\n",
        "- Тестовый набор - **25 512 строк**."
      ]
    },
    {
      "cell_type": "code",
      "execution_count": 1,
      "metadata": {},
      "outputs": [],
      "source": [
        "# установим AutoML фреймворк от Сбера - LightAutoML(LAMA)\n",
        "# это позволит довольно быстро проверять различные гипотезы и \n",
        "# отбирать лучшие решения.\n",
        "# !pip install -U lightautoml"
      ]
    },
    {
      "cell_type": "code",
      "execution_count": 2,
      "metadata": {
        "id": "4FcJiGtaY3ZK"
      },
      "outputs": [
        {
          "name": "stderr",
          "output_type": "stream",
          "text": [
            "/home/admin-gpu/miniconda3/envs/lightautoml/lib/python3.9/site-packages/tqdm/auto.py:21: TqdmWarning: IProgress not found. Please update jupyter and ipywidgets. See https://ipywidgets.readthedocs.io/en/stable/user_install.html\n",
            "  from .autonotebook import tqdm as notebook_tqdm\n"
          ]
        }
      ],
      "source": [
        "# иморитирование всех необходимых библиотек\n",
        "import os\n",
        "\n",
        "import joblib\n",
        "import pandas as pd\n",
        "import numpy as np\n",
        "from sklearn.model_selection import train_test_split\n",
        "\n",
        "import seaborn as sns\n",
        "import matplotlib.pyplot as plt\n",
        "\n",
        "# импорты из LightAutoML\n",
        "from lightautoml.automl.presets.tabular_presets import TabularAutoML\n",
        "from lightautoml.tasks import Task"
      ]
    },
    {
      "attachments": {},
      "cell_type": "markdown",
      "metadata": {
        "id": "Gj2EZrPMi44I"
      },
      "source": [
        "## Считывание данных"
      ]
    },
    {
      "cell_type": "code",
      "execution_count": 3,
      "metadata": {
        "colab": {
          "base_uri": "https://localhost:8080/"
        },
        "id": "ONrDnkYzZVpR",
        "outputId": "3adfe65f-3e7b-4c5c-b4f8-702e36143b5f"
      },
      "outputs": [
        {
          "name": "stdout",
          "output_type": "stream",
          "text": [
            "Train dataset shape: (5282, 20)\n"
          ]
        }
      ],
      "source": [
        "# Считываем тренировочные данные\n",
        "train = pd.read_csv(\"./train.csv\")\n",
        "\n",
        "print(f\"Train dataset shape: {train.shape}\")"
      ]
    },
    {
      "cell_type": "code",
      "execution_count": 4,
      "metadata": {
        "colab": {
          "base_uri": "https://localhost:8080/"
        },
        "id": "zxX61HYrbFbf",
        "outputId": "1790dd26-4f25-49f2-94ce-f35285dce882"
      },
      "outputs": [
        {
          "name": "stdout",
          "output_type": "stream",
          "text": [
            "Test dataset shape: (1761, 19)\n"
          ]
        }
      ],
      "source": [
        "# Считываем тестовые данные\n",
        "test = pd.read_csv(\"./test.csv\")\n",
        "\n",
        "print(f\"Test dataset shape: {test.shape}\")"
      ]
    },
    {
      "cell_type": "code",
      "execution_count": 5,
      "metadata": {
        "colab": {
          "base_uri": "https://localhost:8080/",
          "height": 386
        },
        "id": "HObyO7yYbWT5",
        "outputId": "55b5e632-bf49-4af6-f252-b2360256f4a3"
      },
      "outputs": [
        {
          "data": {
            "text/html": [
              "<div>\n",
              "<style scoped>\n",
              "    .dataframe tbody tr th:only-of-type {\n",
              "        vertical-align: middle;\n",
              "    }\n",
              "\n",
              "    .dataframe tbody tr th {\n",
              "        vertical-align: top;\n",
              "    }\n",
              "\n",
              "    .dataframe thead th {\n",
              "        text-align: right;\n",
              "    }\n",
              "</style>\n",
              "<table border=\"1\" class=\"dataframe\">\n",
              "  <thead>\n",
              "    <tr style=\"text-align: right;\">\n",
              "      <th></th>\n",
              "      <th>ClientPeriod</th>\n",
              "      <th>MonthlySpending</th>\n",
              "      <th>TotalSpent</th>\n",
              "      <th>Sex</th>\n",
              "      <th>IsSeniorCitizen</th>\n",
              "      <th>HasPartner</th>\n",
              "      <th>HasChild</th>\n",
              "      <th>HasPhoneService</th>\n",
              "      <th>HasMultiplePhoneNumbers</th>\n",
              "      <th>HasInternetService</th>\n",
              "      <th>HasOnlineSecurityService</th>\n",
              "      <th>HasOnlineBackup</th>\n",
              "      <th>HasDeviceProtection</th>\n",
              "      <th>HasTechSupportAccess</th>\n",
              "      <th>HasOnlineTV</th>\n",
              "      <th>HasMovieSubscription</th>\n",
              "      <th>HasContractPhone</th>\n",
              "      <th>IsBillingPaperless</th>\n",
              "      <th>PaymentMethod</th>\n",
              "      <th>Churn</th>\n",
              "    </tr>\n",
              "  </thead>\n",
              "  <tbody>\n",
              "    <tr>\n",
              "      <th>0</th>\n",
              "      <td>55</td>\n",
              "      <td>19.50</td>\n",
              "      <td>1026.35</td>\n",
              "      <td>Male</td>\n",
              "      <td>0</td>\n",
              "      <td>Yes</td>\n",
              "      <td>Yes</td>\n",
              "      <td>Yes</td>\n",
              "      <td>No</td>\n",
              "      <td>No</td>\n",
              "      <td>No internet service</td>\n",
              "      <td>No internet service</td>\n",
              "      <td>No internet service</td>\n",
              "      <td>No internet service</td>\n",
              "      <td>No internet service</td>\n",
              "      <td>No internet service</td>\n",
              "      <td>One year</td>\n",
              "      <td>No</td>\n",
              "      <td>Mailed check</td>\n",
              "      <td>0</td>\n",
              "    </tr>\n",
              "    <tr>\n",
              "      <th>1</th>\n",
              "      <td>72</td>\n",
              "      <td>25.85</td>\n",
              "      <td>1872.2</td>\n",
              "      <td>Male</td>\n",
              "      <td>0</td>\n",
              "      <td>Yes</td>\n",
              "      <td>No</td>\n",
              "      <td>Yes</td>\n",
              "      <td>Yes</td>\n",
              "      <td>No</td>\n",
              "      <td>No internet service</td>\n",
              "      <td>No internet service</td>\n",
              "      <td>No internet service</td>\n",
              "      <td>No internet service</td>\n",
              "      <td>No internet service</td>\n",
              "      <td>No internet service</td>\n",
              "      <td>Two year</td>\n",
              "      <td>No</td>\n",
              "      <td>Credit card (automatic)</td>\n",
              "      <td>0</td>\n",
              "    </tr>\n",
              "    <tr>\n",
              "      <th>2</th>\n",
              "      <td>1</td>\n",
              "      <td>75.90</td>\n",
              "      <td>75.9</td>\n",
              "      <td>Male</td>\n",
              "      <td>0</td>\n",
              "      <td>No</td>\n",
              "      <td>No</td>\n",
              "      <td>Yes</td>\n",
              "      <td>No</td>\n",
              "      <td>Fiber optic</td>\n",
              "      <td>No</td>\n",
              "      <td>No</td>\n",
              "      <td>No</td>\n",
              "      <td>Yes</td>\n",
              "      <td>No</td>\n",
              "      <td>No</td>\n",
              "      <td>Month-to-month</td>\n",
              "      <td>Yes</td>\n",
              "      <td>Electronic check</td>\n",
              "      <td>1</td>\n",
              "    </tr>\n",
              "    <tr>\n",
              "      <th>3</th>\n",
              "      <td>32</td>\n",
              "      <td>79.30</td>\n",
              "      <td>2570</td>\n",
              "      <td>Female</td>\n",
              "      <td>1</td>\n",
              "      <td>Yes</td>\n",
              "      <td>No</td>\n",
              "      <td>Yes</td>\n",
              "      <td>Yes</td>\n",
              "      <td>Fiber optic</td>\n",
              "      <td>No</td>\n",
              "      <td>No</td>\n",
              "      <td>Yes</td>\n",
              "      <td>No</td>\n",
              "      <td>No</td>\n",
              "      <td>No</td>\n",
              "      <td>Month-to-month</td>\n",
              "      <td>No</td>\n",
              "      <td>Mailed check</td>\n",
              "      <td>0</td>\n",
              "    </tr>\n",
              "    <tr>\n",
              "      <th>4</th>\n",
              "      <td>60</td>\n",
              "      <td>115.25</td>\n",
              "      <td>6758.45</td>\n",
              "      <td>Female</td>\n",
              "      <td>0</td>\n",
              "      <td>Yes</td>\n",
              "      <td>Yes</td>\n",
              "      <td>Yes</td>\n",
              "      <td>Yes</td>\n",
              "      <td>Fiber optic</td>\n",
              "      <td>Yes</td>\n",
              "      <td>Yes</td>\n",
              "      <td>Yes</td>\n",
              "      <td>Yes</td>\n",
              "      <td>Yes</td>\n",
              "      <td>Yes</td>\n",
              "      <td>Two year</td>\n",
              "      <td>No</td>\n",
              "      <td>Credit card (automatic)</td>\n",
              "      <td>0</td>\n",
              "    </tr>\n",
              "  </tbody>\n",
              "</table>\n",
              "</div>"
            ],
            "text/plain": [
              "   ClientPeriod  MonthlySpending TotalSpent     Sex  IsSeniorCitizen  \\\n",
              "0            55            19.50    1026.35    Male                0   \n",
              "1            72            25.85     1872.2    Male                0   \n",
              "2             1            75.90       75.9    Male                0   \n",
              "3            32            79.30       2570  Female                1   \n",
              "4            60           115.25    6758.45  Female                0   \n",
              "\n",
              "  HasPartner HasChild HasPhoneService HasMultiplePhoneNumbers  \\\n",
              "0        Yes      Yes             Yes                      No   \n",
              "1        Yes       No             Yes                     Yes   \n",
              "2         No       No             Yes                      No   \n",
              "3        Yes       No             Yes                     Yes   \n",
              "4        Yes      Yes             Yes                     Yes   \n",
              "\n",
              "  HasInternetService HasOnlineSecurityService      HasOnlineBackup  \\\n",
              "0                 No      No internet service  No internet service   \n",
              "1                 No      No internet service  No internet service   \n",
              "2        Fiber optic                       No                   No   \n",
              "3        Fiber optic                       No                   No   \n",
              "4        Fiber optic                      Yes                  Yes   \n",
              "\n",
              "   HasDeviceProtection HasTechSupportAccess          HasOnlineTV  \\\n",
              "0  No internet service  No internet service  No internet service   \n",
              "1  No internet service  No internet service  No internet service   \n",
              "2                   No                  Yes                   No   \n",
              "3                  Yes                   No                   No   \n",
              "4                  Yes                  Yes                  Yes   \n",
              "\n",
              "  HasMovieSubscription HasContractPhone IsBillingPaperless  \\\n",
              "0  No internet service         One year                 No   \n",
              "1  No internet service         Two year                 No   \n",
              "2                   No   Month-to-month                Yes   \n",
              "3                   No   Month-to-month                 No   \n",
              "4                  Yes         Two year                 No   \n",
              "\n",
              "             PaymentMethod  Churn  \n",
              "0             Mailed check      0  \n",
              "1  Credit card (automatic)      0  \n",
              "2         Electronic check      1  \n",
              "3             Mailed check      0  \n",
              "4  Credit card (automatic)      0  "
            ]
          },
          "execution_count": 5,
          "metadata": {},
          "output_type": "execute_result"
        }
      ],
      "source": [
        "# Посмотрим как выглядят данные\n",
        "train.head()"
      ]
    },
    {
      "attachments": {},
      "cell_type": "markdown",
      "metadata": {
        "id": "0rWzZ_3QbaCz"
      },
      "source": [
        "## Исследование данных"
      ]
    },
    {
      "attachments": {},
      "cell_type": "markdown",
      "metadata": {
        "id": "kEfYOHNIbdse"
      },
      "source": [
        "Прежде чем переходить к непосредственному построению модели, в первую очередь необходимо исследовать имеющихся у вас набор данных:\n",
        "1. Какую задачу вы решаете (классификация, регрессия) и какая переменная является целевой?\n",
        "2. Сколько переменных в данных и какого они типа?\n",
        "3. Имеются ли в данных пропуски?"
      ]
    },
    {
      "cell_type": "code",
      "execution_count": 6,
      "metadata": {
        "colab": {
          "base_uri": "https://localhost:8080/"
        },
        "id": "NaKK3CesbeuU",
        "outputId": "e84a5cf9-5ad4-4e58-f9f8-136fc1b98147"
      },
      "outputs": [
        {
          "name": "stdout",
          "output_type": "stream",
          "text": [
            "Number of missing values in train dataset:\n",
            "ClientPeriod                0\n",
            "MonthlySpending             0\n",
            "TotalSpent                  0\n",
            "Sex                         0\n",
            "IsSeniorCitizen             0\n",
            "HasPartner                  0\n",
            "HasChild                    0\n",
            "HasPhoneService             0\n",
            "HasMultiplePhoneNumbers     0\n",
            "HasInternetService          0\n",
            "HasOnlineSecurityService    0\n",
            "HasOnlineBackup             0\n",
            "HasDeviceProtection         0\n",
            "HasTechSupportAccess        0\n",
            "HasOnlineTV                 0\n",
            "HasMovieSubscription        0\n",
            "HasContractPhone            0\n",
            "IsBillingPaperless          0\n",
            "PaymentMethod               0\n",
            "Churn                       0\n",
            "dtype: int64\n",
            "Number of missing values in test dataset:\n",
            "ClientPeriod                0\n",
            "MonthlySpending             0\n",
            "TotalSpent                  0\n",
            "Sex                         0\n",
            "IsSeniorCitizen             0\n",
            "HasPartner                  0\n",
            "HasChild                    0\n",
            "HasPhoneService             0\n",
            "HasMultiplePhoneNumbers     0\n",
            "HasInternetService          0\n",
            "HasOnlineSecurityService    0\n",
            "HasOnlineBackup             0\n",
            "HasDeviceProtection         0\n",
            "HasTechSupportAccess        0\n",
            "HasOnlineTV                 0\n",
            "HasMovieSubscription        0\n",
            "HasContractPhone            0\n",
            "IsBillingPaperless          0\n",
            "PaymentMethod               0\n",
            "dtype: int64\n"
          ]
        }
      ],
      "source": [
        "print(\"Number of missing values in train dataset:\")\n",
        "print(train.isna().sum())\n",
        "print(\"Number of missing values in test dataset:\")\n",
        "print(test.isna().sum())"
      ]
    },
    {
      "cell_type": "code",
      "execution_count": 7,
      "metadata": {
        "colab": {
          "base_uri": "https://localhost:8080/"
        },
        "id": "bazQvSFTbmP6",
        "outputId": "c1caa5bb-2def-4d9c-f878-21ce18894733"
      },
      "outputs": [
        {
          "name": "stdout",
          "output_type": "stream",
          "text": [
            "<class 'pandas.core.frame.DataFrame'>\n",
            "RangeIndex: 5282 entries, 0 to 5281\n",
            "Data columns (total 20 columns):\n",
            " #   Column                    Non-Null Count  Dtype  \n",
            "---  ------                    --------------  -----  \n",
            " 0   ClientPeriod              5282 non-null   int64  \n",
            " 1   MonthlySpending           5282 non-null   float64\n",
            " 2   TotalSpent                5282 non-null   object \n",
            " 3   Sex                       5282 non-null   object \n",
            " 4   IsSeniorCitizen           5282 non-null   int64  \n",
            " 5   HasPartner                5282 non-null   object \n",
            " 6   HasChild                  5282 non-null   object \n",
            " 7   HasPhoneService           5282 non-null   object \n",
            " 8   HasMultiplePhoneNumbers   5282 non-null   object \n",
            " 9   HasInternetService        5282 non-null   object \n",
            " 10  HasOnlineSecurityService  5282 non-null   object \n",
            " 11  HasOnlineBackup           5282 non-null   object \n",
            " 12  HasDeviceProtection       5282 non-null   object \n",
            " 13  HasTechSupportAccess      5282 non-null   object \n",
            " 14  HasOnlineTV               5282 non-null   object \n",
            " 15  HasMovieSubscription      5282 non-null   object \n",
            " 16  HasContractPhone          5282 non-null   object \n",
            " 17  IsBillingPaperless        5282 non-null   object \n",
            " 18  PaymentMethod             5282 non-null   object \n",
            " 19  Churn                     5282 non-null   int64  \n",
            "dtypes: float64(1), int64(3), object(16)\n",
            "memory usage: 825.4+ KB\n"
          ]
        }
      ],
      "source": [
        "train.info()"
      ]
    },
    {
      "attachments": {},
      "cell_type": "markdown",
      "metadata": {
        "id": "_YDWDh8XcI79"
      },
      "source": [
        "**Проверим баланс классов.**\n",
        "\n",
        "В задаче классификации данные называются несбалансированными (Imbalanced Data), если в обучающей выборке доли объектов разных классов существенно различаются, также говорят, что «классы не сбалансированы»."
      ]
    },
    {
      "cell_type": "code",
      "execution_count": 8,
      "metadata": {
        "colab": {
          "base_uri": "https://localhost:8080/"
        },
        "id": "gUlB5iR-b8-b",
        "outputId": "284396ab-dde0-4b71-d67e-8580af3c3a05"
      },
      "outputs": [
        {
          "data": {
            "text/plain": [
              "0    3898\n",
              "1    1384\n",
              "Name: Churn, dtype: int64"
            ]
          },
          "execution_count": 8,
          "metadata": {},
          "output_type": "execute_result"
        }
      ],
      "source": [
        "train['Churn'].value_counts()"
      ]
    },
    {
      "cell_type": "code",
      "execution_count": 9,
      "metadata": {
        "colab": {
          "base_uri": "https://localhost:8080/",
          "height": 0
        },
        "id": "jv-e5ow3dB6y",
        "outputId": "d28c676b-4a43-4a75-eb4a-66fc190ae7d6"
      },
      "outputs": [
        {
          "data": {
            "image/png": "[encoded data removed]",
            "text/plain": [
              "<Figure size 640x480 with 1 Axes>"
            ]
          },
          "metadata": {},
          "output_type": "display_data"
        }
      ],
      "source": [
        "sns.set(style=\"white\")\n",
        "sns.set(style=\"whitegrid\", color_codes=True)\n",
        "y_data = pd.DataFrame(train['Churn'])\n",
        "sns.countplot(x='Churn', data=y_data, palette='hls')\n",
        "plt.show()"
      ]
    },
    {
      "attachments": {},
      "cell_type": "markdown",
      "metadata": {
        "id": "uAgv8_SCbrHo"
      },
      "source": [
        "## Предобработка данных"
      ]
    },
    {
      "attachments": {},
      "cell_type": "markdown",
      "metadata": {
        "id": "XvLR4TMZbuns"
      },
      "source": [
        "Исходя из анализа данных, можно сделать выводы:\n",
        "- в данных пропусков нет\n",
        "- в данных имеются категориальные признаки\n",
        "- в задаче решается задача бинарной классификации\n",
        "- существует небольшой дисбаланс классов отмененных бронирований отелей (класс 1) примерно в два раза меньше, чем неотмененных (класс 2).\n",
        "Это хорошо для владельцев отелей, но может создать некоторый bias в нашей модели.\n",
        "Однако итоговая метрика соревнования accuracy, данная метрика не учитывает дисбаланс классов."
      ]
    },
    {
      "attachments": {},
      "cell_type": "markdown",
      "metadata": {
        "id": "0LHpErJTjTz7"
      },
      "source": [
        "### Кодирование признаков"
      ]
    },
    {
      "attachments": {},
      "cell_type": "markdown",
      "metadata": {
        "id": "vRQYZJ2yjgS5"
      },
      "source": [
        "**Категориальные признаки называют по-разному: факторными, номинальными.**\n",
        "\n",
        "Их значения определяют факт принадлежности к какой-то категории. Примеры таких признаков: пол, страна проживания, номер группы, категория товаров и т.п. Ясно, что для компьютерной обработки вместо «понятного для человека» значения (в случае страны — ‘Russia’, ‘GB’, ‘France’ и т.п.) хранят числа. "
      ]
    },
    {
      "attachments": {},
      "cell_type": "markdown",
      "metadata": {
        "id": "2g2tYEQfjkIV"
      },
      "source": [
        "**Категориальные** признаки называют по-разному: **факторными**, **номинальными**. Их значения определяют факт принадлежности к какой-то категории. \n",
        "\n",
        "Примеры таких признаков: пол, страна проживания, номер группы, категория товаров и т.п. Ясно, что для компьютерной обработки вместо «понятного для человека» значения (в случае страны — ‘Russia’, ‘GB’, ‘France’ и т.п.) хранят числа."
      ]
    },
    {
      "cell_type": "code",
      "execution_count": 10,
      "metadata": {},
      "outputs": [],
      "source": [
        "# Перечислим колонки которые являются категоритальными признаками\n",
        "# выбрали датафраме test, чтобы в списке признаков не было целевой переменной\n",
        "\n",
        "# Категориальные признаки\n",
        "category_features = [\n",
        "    'Sex',\n",
        "    'IsSeniorCitizen',\n",
        "    'HasPartner',\n",
        "    'HasChild',\n",
        "    'HasPhoneService',\n",
        "    'HasMultiplePhoneNumbers',\n",
        "    'HasInternetService',\n",
        "    'HasOnlineSecurityService',\n",
        "    'HasOnlineBackup',\n",
        "    'HasDeviceProtection',\n",
        "    'HasTechSupportAccess',\n",
        "    'HasOnlineTV',\n",
        "    'HasMovieSubscription',\n",
        "    'HasContractPhone',\n",
        "    'IsBillingPaperless',\n",
        "    'PaymentMethod'\n",
        "]"
      ]
    },
    {
      "cell_type": "code",
      "execution_count": 11,
      "metadata": {},
      "outputs": [],
      "source": [
        "# Перечислим колонки которые являются количественными(числовыми) признаками\n",
        "# выбрали датафраме test, чтобы в списке признаков не было целевой переменной\n",
        "\n",
        "numeric_features = [\n",
        "    'ClientPeriod',\n",
        "    'MonthlySpending',\n",
        "    'TotalSpent'\n",
        "]"
      ]
    },
    {
      "cell_type": "code",
      "execution_count": 12,
      "metadata": {},
      "outputs": [],
      "source": [
        "# конвертируем строки во float\n",
        "train['TotalSpent'] = pd.to_numeric(train['TotalSpent'].replace('', np.nan).replace(' ',np.nan))\n",
        "test['TotalSpent'] = pd.to_numeric(test['TotalSpent'].replace('', np.nan).replace(' ',np.nan))"
      ]
    },
    {
      "attachments": {},
      "cell_type": "markdown",
      "metadata": {},
      "source": [
        "У используемой мной библиотеки lightAutoLM от Сбера есть своя встроенная обработка категориальных данных.\n",
        "Нам нужно пр постановке задачи просто указать какие колонки являются количественными(числовыми), а какие категориальными.\n",
        "Что мы и сделаем."
      ]
    },
    {
      "attachments": {},
      "cell_type": "markdown",
      "metadata": {},
      "source": [
        "Бывает, что распределения числовых признаков в предоставленных данных могут сильно отличаться.\n",
        "Например, некоторый параметр \"цена бронирования\" имеет в train выборе распределение от 0 до 1000, а в тесте от 5000 до 10000.\n",
        "Таким образом модель обученная по выборке train будет работать в диапазоне значений который не встречается в test выборке.\n",
        "Простейший способ борьбы с этим явлением - избавиться от такого признака при обучении модели."
      ]
    },
    {
      "cell_type": "code",
      "execution_count": 13,
      "metadata": {},
      "outputs": [
        {
          "name": "stderr",
          "output_type": "stream",
          "text": [
            "/tmp/ipykernel_1816773/3591886276.py:4: UserWarning: \n",
            "\n",
            "`distplot` is a deprecated function and will be removed in seaborn v0.14.0.\n",
            "\n",
            "Please adapt your code to use either `displot` (a figure-level function with\n",
            "similar flexibility) or `kdeplot` (an axes-level function for kernel density plots).\n",
            "\n",
            "For a guide to updating your code to use the new functions, please see\n",
            "https://gist.github.com/mwaskom/de44147ed2974457ad6372750bbe5751\n",
            "\n",
            "  sns.distplot(train[[col_i]], hist=False)\n",
            "/tmp/ipykernel_1816773/3591886276.py:5: UserWarning: \n",
            "\n",
            "`distplot` is a deprecated function and will be removed in seaborn v0.14.0.\n",
            "\n",
            "Please adapt your code to use either `displot` (a figure-level function with\n",
            "similar flexibility) or `kdeplot` (an axes-level function for kernel density plots).\n",
            "\n",
            "For a guide to updating your code to use the new functions, please see\n",
            "https://gist.github.com/mwaskom/de44147ed2974457ad6372750bbe5751\n",
            "\n",
            "  sns.distplot(test[[col_i]], hist=False)\n"
          ]
        },
        {
          "data": {
            "image/png": "[encoded data removed]",
            "text/plain": [
              "<Figure size 640x480 with 1 Axes>"
            ]
          },
          "metadata": {},
          "output_type": "display_data"
        },
        {
          "name": "stderr",
          "output_type": "stream",
          "text": [
            "/tmp/ipykernel_1816773/3591886276.py:4: UserWarning: \n",
            "\n",
            "`distplot` is a deprecated function and will be removed in seaborn v0.14.0.\n",
            "\n",
            "Please adapt your code to use either `displot` (a figure-level function with\n",
            "similar flexibility) or `kdeplot` (an axes-level function for kernel density plots).\n",
            "\n",
            "For a guide to updating your code to use the new functions, please see\n",
            "https://gist.github.com/mwaskom/de44147ed2974457ad6372750bbe5751\n",
            "\n",
            "  sns.distplot(train[[col_i]], hist=False)\n",
            "/tmp/ipykernel_1816773/3591886276.py:5: UserWarning: \n",
            "\n",
            "`distplot` is a deprecated function and will be removed in seaborn v0.14.0.\n",
            "\n",
            "Please adapt your code to use either `displot` (a figure-level function with\n",
            "similar flexibility) or `kdeplot` (an axes-level function for kernel density plots).\n",
            "\n",
            "For a guide to updating your code to use the new functions, please see\n",
            "https://gist.github.com/mwaskom/de44147ed2974457ad6372750bbe5751\n",
            "\n",
            "  sns.distplot(test[[col_i]], hist=False)\n"
          ]
        },
        {
          "data": {
            "image/png": "[encoded data removed]",
            "text/plain": [
              "<Figure size 640x480 with 1 Axes>"
            ]
          },
          "metadata": {},
          "output_type": "display_data"
        },
        {
          "name": "stderr",
          "output_type": "stream",
          "text": [
            "/tmp/ipykernel_1816773/3591886276.py:4: UserWarning: \n",
            "\n",
            "`distplot` is a deprecated function and will be removed in seaborn v0.14.0.\n",
            "\n",
            "Please adapt your code to use either `displot` (a figure-level function with\n",
            "similar flexibility) or `kdeplot` (an axes-level function for kernel density plots).\n",
            "\n",
            "For a guide to updating your code to use the new functions, please see\n",
            "https://gist.github.com/mwaskom/de44147ed2974457ad6372750bbe5751\n",
            "\n",
            "  sns.distplot(train[[col_i]], hist=False)\n",
            "/tmp/ipykernel_1816773/3591886276.py:5: UserWarning: \n",
            "\n",
            "`distplot` is a deprecated function and will be removed in seaborn v0.14.0.\n",
            "\n",
            "Please adapt your code to use either `displot` (a figure-level function with\n",
            "similar flexibility) or `kdeplot` (an axes-level function for kernel density plots).\n",
            "\n",
            "For a guide to updating your code to use the new functions, please see\n",
            "https://gist.github.com/mwaskom/de44147ed2974457ad6372750bbe5751\n",
            "\n",
            "  sns.distplot(test[[col_i]], hist=False)\n"
          ]
        },
        {
          "data": {
            "image/png": "[encoded data removed]",
            "text/plain": [
              "<Figure size 640x480 with 1 Axes>"
            ]
          },
          "metadata": {},
          "output_type": "display_data"
        },
        {
          "name": "stderr",
          "output_type": "stream",
          "text": [
            "/tmp/ipykernel_1816773/3591886276.py:4: UserWarning: \n",
            "\n",
            "`distplot` is a deprecated function and will be removed in seaborn v0.14.0.\n",
            "\n",
            "Please adapt your code to use either `displot` (a figure-level function with\n",
            "similar flexibility) or `kdeplot` (an axes-level function for kernel density plots).\n",
            "\n",
            "For a guide to updating your code to use the new functions, please see\n",
            "https://gist.github.com/mwaskom/de44147ed2974457ad6372750bbe5751\n",
            "\n",
            "  sns.distplot(train[[col_i]], hist=False)\n",
            "/tmp/ipykernel_1816773/3591886276.py:5: UserWarning: \n",
            "\n",
            "`distplot` is a deprecated function and will be removed in seaborn v0.14.0.\n",
            "\n",
            "Please adapt your code to use either `displot` (a figure-level function with\n",
            "similar flexibility) or `kdeplot` (an axes-level function for kernel density plots).\n",
            "\n",
            "For a guide to updating your code to use the new functions, please see\n",
            "https://gist.github.com/mwaskom/de44147ed2974457ad6372750bbe5751\n",
            "\n",
            "  sns.distplot(test[[col_i]], hist=False)\n"
          ]
        },
        {
          "data": {
            "image/png": "[encoded data removed]",
            "text/plain": [
              "<Figure size 640x480 with 1 Axes>"
            ]
          },
          "metadata": {},
          "output_type": "display_data"
        }
      ],
      "source": [
        "# Мы хотим посмотреть распределения значений у количественных признаков между выборками train и test\n",
        "\n",
        "for col_i in test.loc[:, train.dtypes != object].columns:\n",
        "    sns.distplot(train[[col_i]], hist=False)\n",
        "    sns.distplot(test[[col_i]], hist=False)\n",
        "    plt.title(col_i)\n",
        "    plt.show()"
      ]
    },
    {
      "attachments": {},
      "cell_type": "markdown",
      "metadata": {},
      "source": [
        "## Вывод -  выборки train и test гомогенны\n",
        "Мы видим, что распределения очень похожи а выборки train и test - гомогенны. Можно работать со всеми числовыми признаками )"
      ]
    },
    {
      "attachments": {},
      "cell_type": "markdown",
      "metadata": {},
      "source": [
        "## Разделяем train-выборку на train (80%) и val(20%)"
      ]
    },
    {
      "cell_type": "code",
      "execution_count": 14,
      "metadata": {},
      "outputs": [
        {
          "name": "stdout",
          "output_type": "stream",
          "text": [
            "Parts sizes: tr_data = (4225, 20), valid_data = (1057, 20)\n"
          ]
        }
      ],
      "source": [
        "# Разобьем выборку на обучающую и валидационную\n",
        "tr_data, valid_data = train_test_split(train, \n",
        "                                       test_size=0.2, \n",
        "                                       stratify=train['Churn'], \n",
        "                                       random_state=42)\n",
        "\n",
        "print(f'Parts sizes: tr_data = {tr_data.shape}, valid_data = {valid_data.shape}')"
      ]
    },
    {
      "attachments": {},
      "cell_type": "markdown",
      "metadata": {
        "id": "ZZu6c22TOehx"
      },
      "source": [
        "## Обучение модели"
      ]
    },
    {
      "attachments": {},
      "cell_type": "markdown",
      "metadata": {
        "id": "K41rZhCIOh7C"
      },
      "source": [
        "Теперь наши данные готовы для обучения модели."
      ]
    },
    {
      "attachments": {},
      "cell_type": "markdown",
      "metadata": {},
      "source": [
        "## Ставим задачу машинного обучения используем все"
      ]
    },
    {
      "cell_type": "code",
      "execution_count": 15,
      "metadata": {},
      "outputs": [],
      "source": [
        "# https://lightautoml.readthedocs.io/en/latest/pages/modules/generated/lightautoml.tasks.base.Task.html#lightautoml.tasks.base.Task\n",
        "task = Task('binary', loss= 'logloss', metric = 'auc')"
      ]
    },
    {
      "cell_type": "code",
      "execution_count": 16,
      "metadata": {},
      "outputs": [
        {
          "data": {
            "text/plain": [
              "['Sex',\n",
              " 'IsSeniorCitizen',\n",
              " 'HasPartner',\n",
              " 'HasChild',\n",
              " 'HasPhoneService',\n",
              " 'HasMultiplePhoneNumbers',\n",
              " 'HasInternetService',\n",
              " 'HasOnlineSecurityService',\n",
              " 'HasOnlineBackup',\n",
              " 'HasDeviceProtection',\n",
              " 'HasTechSupportAccess',\n",
              " 'HasOnlineTV',\n",
              " 'HasMovieSubscription',\n",
              " 'HasContractPhone',\n",
              " 'IsBillingPaperless',\n",
              " 'PaymentMethod']"
            ]
          },
          "execution_count": 16,
          "metadata": {},
          "output_type": "execute_result"
        }
      ],
      "source": [
        "category_features"
      ]
    },
    {
      "cell_type": "code",
      "execution_count": 17,
      "metadata": {},
      "outputs": [
        {
          "data": {
            "text/plain": [
              "['ClientPeriod', 'MonthlySpending', 'TotalSpent']"
            ]
          },
          "execution_count": 17,
          "metadata": {},
          "output_type": "execute_result"
        }
      ],
      "source": [
        "numeric_features"
      ]
    },
    {
      "cell_type": "code",
      "execution_count": 18,
      "metadata": {},
      "outputs": [],
      "source": [
        "roles = {'target': 'Churn',\n",
        "         'numeric': numeric_features,\n",
        "         'category': category_features\n",
        "         }"
      ]
    },
    {
      "cell_type": "code",
      "execution_count": 19,
      "metadata": {},
      "outputs": [],
      "source": [
        "automl = TabularAutoML(\n",
        "    task = task, \n",
        "    timeout = 3600 * 3, # 3600 секунд = 1 час\n",
        "    reader_params = {'n_jobs': 12, 'cv': 3, 'random_state': 42},\n",
        "    general_params = {'use_algos': [['lgb', 'cb', 'linear_l2']]},\n",
        "    timing_params ={'mode': 0}\n",
        "                    )"
      ]
    },
    {
      "cell_type": "code",
      "execution_count": 20,
      "metadata": {},
      "outputs": [
        {
          "name": "stdout",
          "output_type": "stream",
          "text": [
            "[03:04:15] Stdout logging level is DEBUG.\n",
            "[03:04:15] Copying TaskTimer may affect the parent PipelineTimer, so copy will create new unlimited TaskTimer\n",
            "[03:04:15] Task: binary\n",
            "\n",
            "[03:04:15] Start automl preset with listed constraints:\n",
            "[03:04:15] - time: 10800.00 seconds\n",
            "[03:04:15] - CPU: 4 cores\n",
            "[03:04:15] - memory: 16 GB\n",
            "\n",
            "[03:04:15] \u001b[1mTrain data shape: (4225, 20)\u001b[0m\n",
            "\n",
            "[03:04:17] Feats was rejected during automatic roles guess: []\n",
            "[03:04:17] Layer \u001b[1m1\u001b[0m train process start. Time left 10798.43 secs\n",
            "[03:04:17] Start fitting \u001b[1mLvl_0_Pipe_0_Mod_0_LinearL2\u001b[0m ...\n",
            "[03:04:17] Training params: {'tol': 1e-06, 'max_iter': 100, 'cs': [1e-05, 5e-05, 0.0001, 0.0005, 0.001, 0.005, 0.01, 0.05, 0.1, 0.5, 1, 5, 10, 50, 100, 500, 1000, 5000, 10000, 50000, 100000], 'early_stopping': 2, 'categorical_idx': [29, 30, 31, 32, 33], 'embed_sizes': array([3, 4, 3, 4, 3], dtype=int32), 'data_size': 34}\n",
            "[03:04:17] ===== Start working with \u001b[1mfold 0\u001b[0m for \u001b[1mLvl_0_Pipe_0_Mod_0_LinearL2\u001b[0m =====\n",
            "[03:04:17] Linear model: C = 1e-05 score = 0.8036090264748801\n",
            "[03:04:17] Linear model: C = 5e-05 score = 0.8128622055451324\n",
            "[03:04:17] Linear model: C = 0.0001 score = 0.8204216176777153\n",
            "[03:04:17] Linear model: C = 0.0005 score = 0.8391911611423807\n",
            "[03:04:17] Linear model: C = 0.001 score = 0.8446216385240776\n"
          ]
        },
        {
          "name": "stderr",
          "output_type": "stream",
          "text": [
            "/home/admin-gpu/miniconda3/envs/lightautoml/lib/python3.9/site-packages/lightautoml/transformers/categorical.py:1029: FutureWarning: The series.append method is deprecated and will be removed from pandas in a future version. Use pandas.concat instead.\n",
            "  cnts = cnts.append(Series([cnts.shape[0] + 1], index=[np.nan]))\n",
            "/home/admin-gpu/miniconda3/envs/lightautoml/lib/python3.9/site-packages/lightautoml/transformers/categorical.py:1029: FutureWarning: The series.append method is deprecated and will be removed from pandas in a future version. Use pandas.concat instead.\n",
            "  cnts = cnts.append(Series([cnts.shape[0] + 1], index=[np.nan]))\n",
            "/home/admin-gpu/miniconda3/envs/lightautoml/lib/python3.9/site-packages/lightautoml/transformers/categorical.py:1029: FutureWarning: The series.append method is deprecated and will be removed from pandas in a future version. Use pandas.concat instead.\n",
            "  cnts = cnts.append(Series([cnts.shape[0] + 1], index=[np.nan]))\n",
            "/home/admin-gpu/miniconda3/envs/lightautoml/lib/python3.9/site-packages/lightautoml/transformers/categorical.py:1029: FutureWarning: The series.append method is deprecated and will be removed from pandas in a future version. Use pandas.concat instead.\n",
            "  cnts = cnts.append(Series([cnts.shape[0] + 1], index=[np.nan]))\n",
            "/home/admin-gpu/miniconda3/envs/lightautoml/lib/python3.9/site-packages/lightautoml/transformers/categorical.py:1029: FutureWarning: The series.append method is deprecated and will be removed from pandas in a future version. Use pandas.concat instead.\n",
            "  cnts = cnts.append(Series([cnts.shape[0] + 1], index=[np.nan]))\n",
            "/home/admin-gpu/miniconda3/envs/lightautoml/lib/python3.9/site-packages/lightautoml/transformers/categorical.py:1029: FutureWarning: The series.append method is deprecated and will be removed from pandas in a future version. Use pandas.concat instead.\n",
            "  cnts = cnts.append(Series([cnts.shape[0] + 1], index=[np.nan]))\n",
            "/home/admin-gpu/miniconda3/envs/lightautoml/lib/python3.9/site-packages/lightautoml/transformers/categorical.py:1029: FutureWarning: The series.append method is deprecated and will be removed from pandas in a future version. Use pandas.concat instead.\n",
            "  cnts = cnts.append(Series([cnts.shape[0] + 1], index=[np.nan]))\n",
            "/home/admin-gpu/miniconda3/envs/lightautoml/lib/python3.9/site-packages/lightautoml/transformers/categorical.py:1029: FutureWarning: The series.append method is deprecated and will be removed from pandas in a future version. Use pandas.concat instead.\n",
            "  cnts = cnts.append(Series([cnts.shape[0] + 1], index=[np.nan]))\n",
            "/home/admin-gpu/miniconda3/envs/lightautoml/lib/python3.9/site-packages/lightautoml/transformers/categorical.py:1029: FutureWarning: The series.append method is deprecated and will be removed from pandas in a future version. Use pandas.concat instead.\n",
            "  cnts = cnts.append(Series([cnts.shape[0] + 1], index=[np.nan]))\n",
            "/home/admin-gpu/miniconda3/envs/lightautoml/lib/python3.9/site-packages/lightautoml/transformers/categorical.py:1029: FutureWarning: The series.append method is deprecated and will be removed from pandas in a future version. Use pandas.concat instead.\n",
            "  cnts = cnts.append(Series([cnts.shape[0] + 1], index=[np.nan]))\n",
            "/home/admin-gpu/miniconda3/envs/lightautoml/lib/python3.9/site-packages/lightautoml/transformers/categorical.py:1029: FutureWarning: The series.append method is deprecated and will be removed from pandas in a future version. Use pandas.concat instead.\n",
            "  cnts = cnts.append(Series([cnts.shape[0] + 1], index=[np.nan]))\n",
            "/home/admin-gpu/miniconda3/envs/lightautoml/lib/python3.9/site-packages/lightautoml/transformers/categorical.py:1029: FutureWarning: The series.append method is deprecated and will be removed from pandas in a future version. Use pandas.concat instead.\n",
            "  cnts = cnts.append(Series([cnts.shape[0] + 1], index=[np.nan]))\n",
            "/home/admin-gpu/miniconda3/envs/lightautoml/lib/python3.9/site-packages/lightautoml/transformers/categorical.py:1029: FutureWarning: The series.append method is deprecated and will be removed from pandas in a future version. Use pandas.concat instead.\n",
            "  cnts = cnts.append(Series([cnts.shape[0] + 1], index=[np.nan]))\n",
            "/home/admin-gpu/miniconda3/envs/lightautoml/lib/python3.9/site-packages/lightautoml/transformers/categorical.py:1029: FutureWarning: The series.append method is deprecated and will be removed from pandas in a future version. Use pandas.concat instead.\n",
            "  cnts = cnts.append(Series([cnts.shape[0] + 1], index=[np.nan]))\n",
            "/home/admin-gpu/miniconda3/envs/lightautoml/lib/python3.9/site-packages/lightautoml/transformers/categorical.py:1029: FutureWarning: The series.append method is deprecated and will be removed from pandas in a future version. Use pandas.concat instead.\n",
            "  cnts = cnts.append(Series([cnts.shape[0] + 1], index=[np.nan]))\n",
            "/home/admin-gpu/miniconda3/envs/lightautoml/lib/python3.9/site-packages/lightautoml/transformers/categorical.py:1029: FutureWarning: The series.append method is deprecated and will be removed from pandas in a future version. Use pandas.concat instead.\n",
            "  cnts = cnts.append(Series([cnts.shape[0] + 1], index=[np.nan]))\n",
            "/home/admin-gpu/miniconda3/envs/lightautoml/lib/python3.9/site-packages/lightautoml/transformers/categorical.py:1029: FutureWarning: The series.append method is deprecated and will be removed from pandas in a future version. Use pandas.concat instead.\n",
            "  cnts = cnts.append(Series([cnts.shape[0] + 1], index=[np.nan]))\n",
            "/home/admin-gpu/miniconda3/envs/lightautoml/lib/python3.9/site-packages/lightautoml/transformers/categorical.py:1029: FutureWarning: The series.append method is deprecated and will be removed from pandas in a future version. Use pandas.concat instead.\n",
            "  cnts = cnts.append(Series([cnts.shape[0] + 1], index=[np.nan]))\n",
            "/home/admin-gpu/miniconda3/envs/lightautoml/lib/python3.9/site-packages/lightautoml/transformers/categorical.py:1029: FutureWarning: The series.append method is deprecated and will be removed from pandas in a future version. Use pandas.concat instead.\n",
            "  cnts = cnts.append(Series([cnts.shape[0] + 1], index=[np.nan]))\n"
          ]
        },
        {
          "name": "stdout",
          "output_type": "stream",
          "text": [
            "[03:04:17] Linear model: C = 0.005 score = 0.8514488221805295\n",
            "[03:04:17] Linear model: C = 0.01 score = 0.85291588492808\n",
            "[03:04:17] Linear model: C = 0.05 score = 0.8548650198040443\n",
            "[03:04:17] Linear model: C = 0.1 score = 0.855120387742339\n",
            "[03:04:17] Linear model: C = 0.5 score = 0.8547425474254742\n",
            "[03:04:17] Linear model: C = 1 score = 0.8547425474254742\n",
            "[03:04:17] ===== Start working with \u001b[1mfold 1\u001b[0m for \u001b[1mLvl_0_Pipe_0_Mod_0_LinearL2\u001b[0m =====\n",
            "[03:04:17] Linear model: C = 1e-05 score = 0.7979060541327262\n",
            "[03:04:17] Linear model: C = 5e-05 score = 0.8051832202633864\n",
            "[03:04:17] Linear model: C = 0.0001 score = 0.8098885993672256\n",
            "[03:04:17] Linear model: C = 0.0005 score = 0.8234961175405786\n",
            "[03:04:17] Linear model: C = 0.001 score = 0.826853003852464\n",
            "[03:04:17] Linear model: C = 0.005 score = 0.8315218667104861\n",
            "[03:04:17] Linear model: C = 0.01 score = 0.8327373360355355\n",
            "[03:04:17] Linear model: C = 0.05 score = 0.8355047458078045\n",
            "[03:04:17] Linear model: C = 0.1 score = 0.8366550075510378\n",
            "[03:04:17] Linear model: C = 0.5 score = 0.837067119468115\n",
            "[03:04:17] Linear model: C = 1 score = 0.837067119468115\n",
            "[03:04:17] Linear model: C = 5 score = 0.837067119468115\n",
            "[03:04:17] ===== Start working with \u001b[1mfold 2\u001b[0m for \u001b[1mLvl_0_Pipe_0_Mod_0_LinearL2\u001b[0m =====\n",
            "[03:04:17] Linear model: C = 1e-05 score = 0.7765257922069115\n",
            "[03:04:17] Linear model: C = 5e-05 score = 0.7865886262327492\n",
            "[03:04:17] Linear model: C = 0.0001 score = 0.7944630938128439\n",
            "[03:04:17] Linear model: C = 0.0005 score = 0.8150139152979595\n",
            "[03:04:17] Linear model: C = 0.001 score = 0.8215268485697369\n",
            "[03:04:17] Linear model: C = 0.005 score = 0.8292083017076561\n",
            "[03:04:17] Linear model: C = 0.01 score = 0.830397687999979\n",
            "[03:04:17] Linear model: C = 0.05 score = 0.8316705399970266\n",
            "[03:04:17] Linear model: C = 0.1 score = 0.8321556844057372\n",
            "[03:04:17] Linear model: C = 0.5 score = 0.8341119118602158\n",
            "[03:04:17] Linear model: C = 1 score = 0.8341119118602158\n",
            "[03:04:17] Linear model: C = 5 score = 0.8341119118602158\n",
            "[03:04:17] Fitting \u001b[1mLvl_0_Pipe_0_Mod_0_LinearL2\u001b[0m finished. score = \u001b[1m0.8414341530629332\u001b[0m\n",
            "[03:04:17] \u001b[1mLvl_0_Pipe_0_Mod_0_LinearL2\u001b[0m fitting and predicting completed\n",
            "[03:04:17] Time left 10797.83 secs\n",
            "\n",
            "[03:04:17] Training until validation scores don't improve for 200 rounds\n",
            "[03:04:17] [100]\tvalid's auc: 0.842097\n",
            "[03:04:17] [200]\tvalid's auc: 0.842426\n",
            "[03:04:17] [300]\tvalid's auc: 0.842837\n",
            "[03:04:17] [400]\tvalid's auc: 0.841852\n",
            "[03:04:17] Early stopping, best iteration is:\n",
            "[259]\tvalid's auc: 0.843053\n",
            "[03:04:17] \u001b[1mSelector_LightGBM\u001b[0m fitting and predicting completed\n"
          ]
        },
        {
          "name": "stderr",
          "output_type": "stream",
          "text": [
            "/home/admin-gpu/miniconda3/envs/lightautoml/lib/python3.9/site-packages/lightautoml/transformers/categorical.py:1029: FutureWarning: The series.append method is deprecated and will be removed from pandas in a future version. Use pandas.concat instead.\n",
            "  cnts = cnts.append(Series([cnts.shape[0] + 1], index=[np.nan]))\n",
            "/home/admin-gpu/miniconda3/envs/lightautoml/lib/python3.9/site-packages/lightautoml/transformers/categorical.py:1029: FutureWarning: The series.append method is deprecated and will be removed from pandas in a future version. Use pandas.concat instead.\n",
            "  cnts = cnts.append(Series([cnts.shape[0] + 1], index=[np.nan]))\n",
            "/home/admin-gpu/miniconda3/envs/lightautoml/lib/python3.9/site-packages/lightautoml/transformers/categorical.py:1029: FutureWarning: The series.append method is deprecated and will be removed from pandas in a future version. Use pandas.concat instead.\n",
            "  cnts = cnts.append(Series([cnts.shape[0] + 1], index=[np.nan]))\n",
            "/home/admin-gpu/miniconda3/envs/lightautoml/lib/python3.9/site-packages/lightautoml/transformers/categorical.py:1029: FutureWarning: The series.append method is deprecated and will be removed from pandas in a future version. Use pandas.concat instead.\n",
            "  cnts = cnts.append(Series([cnts.shape[0] + 1], index=[np.nan]))\n",
            "/home/admin-gpu/miniconda3/envs/lightautoml/lib/python3.9/site-packages/lightautoml/transformers/categorical.py:1029: FutureWarning: The series.append method is deprecated and will be removed from pandas in a future version. Use pandas.concat instead.\n",
            "  cnts = cnts.append(Series([cnts.shape[0] + 1], index=[np.nan]))\n",
            "/home/admin-gpu/miniconda3/envs/lightautoml/lib/python3.9/site-packages/lightautoml/transformers/categorical.py:1029: FutureWarning: The series.append method is deprecated and will be removed from pandas in a future version. Use pandas.concat instead.\n",
            "  cnts = cnts.append(Series([cnts.shape[0] + 1], index=[np.nan]))\n",
            "/home/admin-gpu/miniconda3/envs/lightautoml/lib/python3.9/site-packages/lightautoml/transformers/categorical.py:1029: FutureWarning: The series.append method is deprecated and will be removed from pandas in a future version. Use pandas.concat instead.\n",
            "  cnts = cnts.append(Series([cnts.shape[0] + 1], index=[np.nan]))\n",
            "/home/admin-gpu/miniconda3/envs/lightautoml/lib/python3.9/site-packages/lightautoml/transformers/categorical.py:1029: FutureWarning: The series.append method is deprecated and will be removed from pandas in a future version. Use pandas.concat instead.\n",
            "  cnts = cnts.append(Series([cnts.shape[0] + 1], index=[np.nan]))\n",
            "/home/admin-gpu/miniconda3/envs/lightautoml/lib/python3.9/site-packages/lightautoml/transformers/categorical.py:1029: FutureWarning: The series.append method is deprecated and will be removed from pandas in a future version. Use pandas.concat instead.\n",
            "  cnts = cnts.append(Series([cnts.shape[0] + 1], index=[np.nan]))\n",
            "/home/admin-gpu/miniconda3/envs/lightautoml/lib/python3.9/site-packages/lightautoml/transformers/categorical.py:1029: FutureWarning: The series.append method is deprecated and will be removed from pandas in a future version. Use pandas.concat instead.\n",
            "  cnts = cnts.append(Series([cnts.shape[0] + 1], index=[np.nan]))\n",
            "/home/admin-gpu/miniconda3/envs/lightautoml/lib/python3.9/site-packages/lightautoml/transformers/categorical.py:1029: FutureWarning: The series.append method is deprecated and will be removed from pandas in a future version. Use pandas.concat instead.\n",
            "  cnts = cnts.append(Series([cnts.shape[0] + 1], index=[np.nan]))\n",
            "/home/admin-gpu/miniconda3/envs/lightautoml/lib/python3.9/site-packages/lightautoml/transformers/categorical.py:1029: FutureWarning: The series.append method is deprecated and will be removed from pandas in a future version. Use pandas.concat instead.\n",
            "  cnts = cnts.append(Series([cnts.shape[0] + 1], index=[np.nan]))\n",
            "/home/admin-gpu/miniconda3/envs/lightautoml/lib/python3.9/site-packages/lightautoml/transformers/categorical.py:1029: FutureWarning: The series.append method is deprecated and will be removed from pandas in a future version. Use pandas.concat instead.\n",
            "  cnts = cnts.append(Series([cnts.shape[0] + 1], index=[np.nan]))\n",
            "/home/admin-gpu/miniconda3/envs/lightautoml/lib/python3.9/site-packages/lightautoml/transformers/categorical.py:1029: FutureWarning: The series.append method is deprecated and will be removed from pandas in a future version. Use pandas.concat instead.\n",
            "  cnts = cnts.append(Series([cnts.shape[0] + 1], index=[np.nan]))\n",
            "/home/admin-gpu/miniconda3/envs/lightautoml/lib/python3.9/site-packages/lightautoml/transformers/categorical.py:1029: FutureWarning: The series.append method is deprecated and will be removed from pandas in a future version. Use pandas.concat instead.\n",
            "  cnts = cnts.append(Series([cnts.shape[0] + 1], index=[np.nan]))\n"
          ]
        },
        {
          "name": "stdout",
          "output_type": "stream",
          "text": [
            "[03:04:17] Start fitting \u001b[1mLvl_0_Pipe_1_Mod_0_LightGBM\u001b[0m ...\n",
            "[03:04:17] Training params: {'task': 'train', 'learning_rate': 0.01, 'num_leaves': 16, 'feature_fraction': 0.7, 'bagging_fraction': 0.7, 'bagging_freq': 1, 'max_depth': -1, 'verbosity': -1, 'reg_alpha': 1, 'reg_lambda': 0.0, 'min_split_gain': 0.0, 'zero_as_missing': False, 'num_threads': 4, 'max_bin': 255, 'min_data_in_bin': 3, 'num_trees': 3000, 'early_stopping_rounds': 200, 'random_state': 42}\n",
            "[03:04:17] ===== Start working with \u001b[1mfold 0\u001b[0m for \u001b[1mLvl_0_Pipe_1_Mod_0_LightGBM\u001b[0m =====\n",
            "[03:04:17] Training until validation scores don't improve for 200 rounds\n",
            "[03:04:17] [100]\tvalid's auc: 0.834687\n",
            "[03:04:18] [200]\tvalid's auc: 0.838645\n",
            "[03:04:18] [300]\tvalid's auc: 0.840003\n",
            "[03:04:18] [400]\tvalid's auc: 0.840781\n",
            "[03:04:18] [500]\tvalid's auc: 0.840981\n",
            "[03:04:18] [600]\tvalid's auc: 0.840253\n",
            "[03:04:18] Early stopping, best iteration is:\n",
            "[414]\tvalid's auc: 0.841211\n",
            "[03:04:18] ===== Start working with \u001b[1mfold 1\u001b[0m for \u001b[1mLvl_0_Pipe_1_Mod_0_LightGBM\u001b[0m =====\n",
            "[03:04:18] Training until validation scores don't improve for 200 rounds\n"
          ]
        },
        {
          "name": "stderr",
          "output_type": "stream",
          "text": [
            "/home/admin-gpu/miniconda3/envs/lightautoml/lib/python3.9/site-packages/lightautoml/transformers/categorical.py:1029: FutureWarning: The series.append method is deprecated and will be removed from pandas in a future version. Use pandas.concat instead.\n",
            "  cnts = cnts.append(Series([cnts.shape[0] + 1], index=[np.nan]))\n",
            "/home/admin-gpu/miniconda3/envs/lightautoml/lib/python3.9/site-packages/lightautoml/transformers/categorical.py:1029: FutureWarning: The series.append method is deprecated and will be removed from pandas in a future version. Use pandas.concat instead.\n",
            "  cnts = cnts.append(Series([cnts.shape[0] + 1], index=[np.nan]))\n",
            "/home/admin-gpu/miniconda3/envs/lightautoml/lib/python3.9/site-packages/lightautoml/transformers/categorical.py:1029: FutureWarning: The series.append method is deprecated and will be removed from pandas in a future version. Use pandas.concat instead.\n",
            "  cnts = cnts.append(Series([cnts.shape[0] + 1], index=[np.nan]))\n",
            "/home/admin-gpu/miniconda3/envs/lightautoml/lib/python3.9/site-packages/lightautoml/transformers/categorical.py:1029: FutureWarning: The series.append method is deprecated and will be removed from pandas in a future version. Use pandas.concat instead.\n",
            "  cnts = cnts.append(Series([cnts.shape[0] + 1], index=[np.nan]))\n"
          ]
        },
        {
          "name": "stdout",
          "output_type": "stream",
          "text": [
            "[03:04:18] [100]\tvalid's auc: 0.83367\n",
            "[03:04:18] [200]\tvalid's auc: 0.834403\n",
            "[03:04:18] [300]\tvalid's auc: 0.835241\n",
            "[03:04:18] [400]\tvalid's auc: 0.834491\n",
            "[03:04:18] [500]\tvalid's auc: 0.834804\n",
            "[03:04:18] Early stopping, best iteration is:\n",
            "[305]\tvalid's auc: 0.835468\n",
            "[03:04:18] ===== Start working with \u001b[1mfold 2\u001b[0m for \u001b[1mLvl_0_Pipe_1_Mod_0_LightGBM\u001b[0m =====\n",
            "[03:04:18] Training until validation scores don't improve for 200 rounds\n",
            "[03:04:18] [100]\tvalid's auc: 0.831514\n",
            "[03:04:18] [200]\tvalid's auc: 0.831166\n",
            "[03:04:18] Early stopping, best iteration is:\n",
            "[15]\tvalid's auc: 0.833336\n",
            "[03:04:18] Fitting \u001b[1mLvl_0_Pipe_1_Mod_0_LightGBM\u001b[0m finished. score = \u001b[1m0.8082447229218925\u001b[0m\n",
            "[03:04:18] \u001b[1mLvl_0_Pipe_1_Mod_0_LightGBM\u001b[0m fitting and predicting completed\n",
            "[03:04:18] Start fitting \u001b[1mLvl_0_Pipe_1_Mod_1_CatBoost\u001b[0m ...\n",
            "[03:04:18] Training params: {'task_type': 'GPU', 'thread_count': 4, 'random_seed': 42, 'num_trees': 500, 'learning_rate': 0.02, 'l2_leaf_reg': 0.01, 'bootstrap_type': 'Bernoulli', 'grow_policy': 'SymmetricTree', 'max_depth': 5, 'min_data_in_leaf': 1, 'one_hot_max_size': 10, 'fold_permutation_block': 1, 'boosting_type': 'Plain', 'boost_from_average': True, 'od_type': 'Iter', 'od_wait': 100, 'max_bin': 32, 'feature_border_type': 'GreedyLogSum', 'nan_mode': 'Min', 'verbose': 100, 'allow_writing_files': False, 'devices': '0'}\n",
            "[03:04:18] ===== Start working with \u001b[1mfold 0\u001b[0m for \u001b[1mLvl_0_Pipe_1_Mod_1_CatBoost\u001b[0m =====\n",
            "[03:04:18] 0:\ttest: 0.8260540\tbest: 0.8260540 (0)\ttotal: 2.86ms\tremaining: 1.43s\n"
          ]
        },
        {
          "name": "stderr",
          "output_type": "stream",
          "text": [
            "Default metric period is 5 because AUC is/are not implemented for GPU\n"
          ]
        },
        {
          "name": "stdout",
          "output_type": "stream",
          "text": [
            "[03:04:18] 100:\ttest: 0.8448483\tbest: 0.8454776 (70)\ttotal: 223ms\tremaining: 882ms\n",
            "[03:04:18] bestTest = 0.8454776406\n",
            "[03:04:18] bestIteration = 70\n",
            "[03:04:18] Shrink model to first 71 iterations.\n",
            "[03:04:18] ===== Start working with \u001b[1mfold 1\u001b[0m for \u001b[1mLvl_0_Pipe_1_Mod_1_CatBoost\u001b[0m =====\n",
            "[03:04:19] 0:\ttest: 0.8003852\tbest: 0.8003852 (0)\ttotal: 2.48ms\tremaining: 1.24s\n"
          ]
        },
        {
          "name": "stderr",
          "output_type": "stream",
          "text": [
            "Default metric period is 5 because AUC is/are not implemented for GPU\n"
          ]
        },
        {
          "name": "stdout",
          "output_type": "stream",
          "text": [
            "[03:04:19] 100:\ttest: 0.8337885\tbest: 0.8345553 (77)\ttotal: 217ms\tremaining: 858ms\n",
            "[03:04:19] 200:\ttest: 0.8358451\tbest: 0.8359860 (195)\ttotal: 450ms\tremaining: 669ms\n",
            "[03:04:20] 300:\ttest: 0.8352700\tbest: 0.8365102 (259)\ttotal: 666ms\tremaining: 440ms\n",
            "[03:04:20] bestTest = 0.836510241\n",
            "[03:04:20] bestIteration = 259\n",
            "[03:04:20] Shrink model to first 260 iterations.\n",
            "[03:04:20] ===== Start working with \u001b[1mfold 2\u001b[0m for \u001b[1mLvl_0_Pipe_1_Mod_1_CatBoost\u001b[0m =====\n",
            "[03:04:20] 0:\ttest: 0.8089092\tbest: 0.8089092 (0)\ttotal: 2.57ms\tremaining: 1.28s\n"
          ]
        },
        {
          "name": "stderr",
          "output_type": "stream",
          "text": [
            "Default metric period is 5 because AUC is/are not implemented for GPU\n"
          ]
        },
        {
          "name": "stdout",
          "output_type": "stream",
          "text": [
            "[03:04:21] 100:\ttest: 0.8326056\tbest: 0.8326056 (100)\ttotal: 224ms\tremaining: 885ms\n",
            "[03:04:21] 200:\ttest: 0.8318023\tbest: 0.8331481 (119)\ttotal: 442ms\tremaining: 657ms\n",
            "[03:04:21] bestTest = 0.8331481218\n",
            "[03:04:21] bestIteration = 119\n",
            "[03:04:21] Shrink model to first 120 iterations.\n",
            "[03:04:21] Fitting \u001b[1mLvl_0_Pipe_1_Mod_1_CatBoost\u001b[0m finished. score = \u001b[1m0.8322229870791331\u001b[0m\n",
            "[03:04:21] \u001b[1mLvl_0_Pipe_1_Mod_1_CatBoost\u001b[0m fitting and predicting completed\n",
            "[03:04:21] Time left 10794.13 secs\n",
            "\n",
            "[03:04:21] \u001b[1mLayer 1 training completed.\u001b[0m\n",
            "\n",
            "[03:04:21] Blending: optimization starts with equal weights and score \u001b[1m0.8379615867999604\u001b[0m\n",
            "[03:04:21] Blending: iteration \u001b[1m0\u001b[0m: score = \u001b[1m0.8423571962895169\u001b[0m, weights = \u001b[1m[0.7339527  0.11283652 0.15321076]\u001b[0m\n",
            "[03:04:21] Blending: iteration \u001b[1m1\u001b[0m: score = \u001b[1m0.8423760279937629\u001b[0m, weights = \u001b[1m[0.71618706 0.09168904 0.19212386]\u001b[0m\n",
            "[03:04:21] Blending: iteration \u001b[1m2\u001b[0m: score = \u001b[1m0.8424197754913191\u001b[0m, weights = \u001b[1m[0.7348563  0.07506367 0.19008005]\u001b[0m\n",
            "[03:04:21] Blending: iteration \u001b[1m3\u001b[0m: score = \u001b[1m0.8424197754913191\u001b[0m, weights = \u001b[1m[0.7348563  0.07506367 0.19008005]\u001b[0m\n",
            "[03:04:21] Blending: no score update. Terminated\n",
            "\n",
            "[03:04:21] \u001b[1mAutoml preset training completed in 5.96 seconds\u001b[0m\n",
            "\n",
            "[03:04:21] Model description:\n",
            "Final prediction for new objects (level 0) = \n",
            "\t 0.73486 * (3 averaged models Lvl_0_Pipe_0_Mod_0_LinearL2) +\n",
            "\t 0.07506 * (3 averaged models Lvl_0_Pipe_1_Mod_0_LightGBM) +\n",
            "\t 0.19008 * (3 averaged models Lvl_0_Pipe_1_Mod_1_CatBoost) \n",
            "\n"
          ]
        }
      ],
      "source": [
        "# запускаем обучение на данных и подбор оптимальных параметров\n",
        "# из ансамбля моделей\n",
        "oof_pred = automl.fit_predict(tr_data, roles = roles, verbose=4)"
      ]
    },
    {
      "attachments": {},
      "cell_type": "markdown",
      "metadata": {},
      "source": [
        "Тут некоторая тонкость использования метдов **automl.fit_predict()** и **automl.predict()**.\n",
        "\n",
        "Когда automl обучает модели методом **fit_predict()** это происходит с помощью кросс валидации (в нашем случае на 5 подвыборках из обучающей выборки). \n",
        "\n",
        "В процессе этого **automl** будет собирать статистику по фолдам, которые в данный момент являются валидационными и записывать ее.\n",
        "\n",
        "Поэтому и предсказанные значения по валидационным фолдам и полученные по ней метрики будут получены из метода automl.fit_predict(обучающая_выборка).\n",
        "\n",
        "automl.predict(данные) использует уже готовый полученный ансамбль моделей МЛ, некакого разбиения на подвыборки тут нет. Его праивльно использовать на тестовой выборке, - тех данных которые не участвовали при обучени модели.\n",
        "\n",
        "Предсказывать на automl.predict(обучающая_выборка) не правильно, таким образом мы померим метрику на тех данных на которых учили модель. А правильно делать это только на валлидационых фолдах при кросс валидации."
      ]
    },
    {
      "attachments": {},
      "cell_type": "markdown",
      "metadata": {},
      "source": [
        "### Сохраним полученный ансамбль моделей в файл"
      ]
    },
    {
      "cell_type": "code",
      "execution_count": 21,
      "metadata": {},
      "outputs": [],
      "source": [
        "model_path = 'model/lightautoml_model_1.pkl'\n",
        "oof_pred_path = 'model/lightautoml_model_1_oof_pred_1.pkl'"
      ]
    },
    {
      "cell_type": "code",
      "execution_count": 22,
      "metadata": {},
      "outputs": [],
      "source": [
        "if not os.path.exists('model'):\n",
        "    os.makedirs('model')"
      ]
    },
    {
      "cell_type": "code",
      "execution_count": 23,
      "metadata": {},
      "outputs": [
        {
          "data": {
            "text/plain": [
              "['model/lightautoml_model_1_oof_pred_1.pkl']"
            ]
          },
          "execution_count": 23,
          "metadata": {},
          "output_type": "execute_result"
        }
      ],
      "source": [
        "# сохраним полученный ансамбль моделей и его предсказания на тестовой выборке\n",
        "joblib.dump(automl, model_path)\n",
        "joblib.dump(oof_pred, oof_pred_path)"
      ]
    },
    {
      "attachments": {},
      "cell_type": "markdown",
      "metadata": {},
      "source": [
        "### Загрузим сохраненую ранее модель из файла"
      ]
    },
    {
      "cell_type": "code",
      "execution_count": 24,
      "metadata": {},
      "outputs": [],
      "source": [
        "porog = 0.5"
      ]
    },
    {
      "cell_type": "code",
      "execution_count": 25,
      "metadata": {},
      "outputs": [],
      "source": [
        "automl = joblib.load(model_path)\n",
        "oof_pred = joblib.load(oof_pred_path)"
      ]
    },
    {
      "cell_type": "code",
      "execution_count": 26,
      "metadata": {},
      "outputs": [],
      "source": [
        "# проверка полученного ансамбля на валидационной выборке\n",
        "valid_pred = automl.predict(valid_data)"
      ]
    },
    {
      "cell_type": "code",
      "execution_count": 27,
      "metadata": {},
      "outputs": [
        {
          "data": {
            "text/plain": [
              "array([0, 0, 0, ..., 1, 0, 1])"
            ]
          },
          "execution_count": 27,
          "metadata": {},
          "output_type": "execute_result"
        }
      ],
      "source": [
        "valid_pred = (valid_pred.data[:, 0] > porog).astype(int)\n",
        "valid_pred"
      ]
    },
    {
      "cell_type": "code",
      "execution_count": 28,
      "metadata": {},
      "outputs": [
        {
          "data": {
            "text/plain": [
              "(array([0, 1]), array([838, 219]))"
            ]
          },
          "execution_count": 28,
          "metadata": {},
          "output_type": "execute_result"
        }
      ],
      "source": [
        "np.unique(valid_pred, return_counts=True)"
      ]
    },
    {
      "cell_type": "code",
      "execution_count": 29,
      "metadata": {},
      "outputs": [
        {
          "data": {
            "text/plain": [
              "array([0, 0, 0, ..., 1, 0, 1])"
            ]
          },
          "execution_count": 29,
          "metadata": {},
          "output_type": "execute_result"
        }
      ],
      "source": [
        "valid_y_true = valid_data['Churn'].values\n",
        "valid_y_true"
      ]
    },
    {
      "cell_type": "code",
      "execution_count": 30,
      "metadata": {},
      "outputs": [
        {
          "data": {
            "text/plain": [
              "(array([0, 1]), array([780, 277]))"
            ]
          },
          "execution_count": 30,
          "metadata": {},
          "output_type": "execute_result"
        }
      ],
      "source": [
        "np.unique(valid_y_true, return_counts=True)"
      ]
    },
    {
      "cell_type": "code",
      "execution_count": 31,
      "metadata": {},
      "outputs": [],
      "source": [
        "# соберем данные для оценки метрик по фолдам кросс валидации\n",
        "cross_val_train_y_true = tr_data['Churn'].values\n",
        "cross_val_train_pred = (oof_pred.data[:, 0] > porog).astype(int)"
      ]
    },
    {
      "cell_type": "code",
      "execution_count": 32,
      "metadata": {},
      "outputs": [
        {
          "name": "stdout",
          "output_type": "stream",
          "text": [
            "Кросс валидация roc_auc_score: 0.714751540288548\n",
            "Валидационная выборка roc_auc_score: 0.7094047949643617\n"
          ]
        }
      ],
      "source": [
        "# оценка полученной метрики на валидационном наборе данных\n",
        "from sklearn.metrics import roc_auc_score\n",
        "\n",
        "print(f\"Кросс валидация roc_auc_score: {roc_auc_score(cross_val_train_y_true, cross_val_train_pred)}\")\n",
        "print(f\"Валидационная выборка roc_auc_score: {roc_auc_score(valid_y_true, valid_pred)}\")"
      ]
    },
    {
      "attachments": {},
      "cell_type": "markdown",
      "metadata": {},
      "source": [
        "## Обучение модели на всей обучающей выборке и предсказание на тестовых данных"
      ]
    },
    {
      "attachments": {},
      "cell_type": "markdown",
      "metadata": {},
      "source": [
        "Мы подобрали параметры обучения убедились что они работают хорошо по кросс валидации по 5 фолдам на 80% обучающей выборки.\n",
        "И протестировали наш алгоритм на 20% валидационной выборки.\n",
        "\n",
        "Теперь мы используя все подобранные параметры и настройки просто обучим алгоритм МЛ на кросс валидации по 5 фолдам, но уже на всей обучающей выборке. \n",
        "\n",
        "Согласно лучшим практикам встречающимся на kaggle это дает дополнительный прирост к точности за счет расширения выборки обучающих данных для модели. Контроль метрик и ранней остановки обучения идет по метрикам на валидационной выборке каждого фола из кросс валидации.\n",
        "И является распространенной практикой используемой при работе с LightAutoML от Сбера (ссылка на туториалы https://github.com/sb-ai-lab/LightAutoML#google-colab-tutorials-and-other-examples)."
      ]
    },
    {
      "cell_type": "code",
      "execution_count": 33,
      "metadata": {},
      "outputs": [],
      "source": [
        "# https://lightautoml.readthedocs.io/en/latest/python_api/generated/lightautoml.tasks.base.Task.html#lightautoml.tasks.base.Task\n",
        "task = Task('binary', loss= 'logloss', metric = 'auc')"
      ]
    },
    {
      "cell_type": "code",
      "execution_count": 34,
      "metadata": {},
      "outputs": [],
      "source": [
        "roles = {'target': 'Churn',\n",
        "         'numeric': numeric_features,\n",
        "         'category': category_features\n",
        "         }"
      ]
    },
    {
      "cell_type": "code",
      "execution_count": 35,
      "metadata": {},
      "outputs": [],
      "source": [
        "automl = TabularAutoML(\n",
        "    task=task,\n",
        "    timeout=3600 * 3,  # 3600 секунд = 1 час\n",
        "    reader_params={\"n_jobs\": 12, \"cv\": 3, \"random_state\": 42},\n",
        "    general_params={\"use_algos\": [[\"lgb\", \"cb\", \"linear_l2\"]]},\n",
        "    timing_params={\"mode\": 0},\n",
        ")"
      ]
    },
    {
      "cell_type": "code",
      "execution_count": 36,
      "metadata": {},
      "outputs": [
        {
          "name": "stdout",
          "output_type": "stream",
          "text": [
            "[03:04:22] Stdout logging level is DEBUG.\n",
            "[03:04:22] Task: binary\n",
            "\n",
            "[03:04:22] Start automl preset with listed constraints:\n",
            "[03:04:22] - time: 10800.00 seconds\n",
            "[03:04:22] - CPU: 4 cores\n",
            "[03:04:22] - memory: 16 GB\n",
            "\n",
            "[03:04:22] \u001b[1mTrain data shape: (5282, 20)\u001b[0m\n",
            "\n",
            "[03:04:24] Feats was rejected during automatic roles guess: []\n",
            "[03:04:24] Layer \u001b[1m1\u001b[0m train process start. Time left 10798.35 secs\n",
            "[03:04:24] Start fitting \u001b[1mLvl_0_Pipe_0_Mod_0_LinearL2\u001b[0m ...\n",
            "[03:04:24] Training params: {'tol': 1e-06, 'max_iter': 100, 'cs': [1e-05, 5e-05, 0.0001, 0.0005, 0.001, 0.005, 0.01, 0.05, 0.1, 0.5, 1, 5, 10, 50, 100, 500, 1000, 5000, 10000, 50000, 100000], 'early_stopping': 2, 'categorical_idx': [29, 30, 31, 32, 33, 34, 35], 'embed_sizes': array([3, 3, 3, 3, 3, 4, 3], dtype=int32), 'data_size': 36}\n",
            "[03:04:24] ===== Start working with \u001b[1mfold 0\u001b[0m for \u001b[1mLvl_0_Pipe_0_Mod_0_LinearL2\u001b[0m =====\n",
            "[03:04:24] Linear model: C = 1e-05 score = 0.7989103954613715\n",
            "[03:04:24] Linear model: C = 5e-05 score = 0.8090764224929083\n",
            "[03:04:24] Linear model: C = 0.0001 score = 0.817138328049391\n",
            "[03:04:24] Linear model: C = 0.0005 score = 0.8372367762389454\n"
          ]
        },
        {
          "name": "stderr",
          "output_type": "stream",
          "text": [
            "/home/admin-gpu/miniconda3/envs/lightautoml/lib/python3.9/site-packages/lightautoml/transformers/categorical.py:1029: FutureWarning: The series.append method is deprecated and will be removed from pandas in a future version. Use pandas.concat instead.\n",
            "  cnts = cnts.append(Series([cnts.shape[0] + 1], index=[np.nan]))\n",
            "/home/admin-gpu/miniconda3/envs/lightautoml/lib/python3.9/site-packages/lightautoml/transformers/categorical.py:1029: FutureWarning: The series.append method is deprecated and will be removed from pandas in a future version. Use pandas.concat instead.\n",
            "  cnts = cnts.append(Series([cnts.shape[0] + 1], index=[np.nan]))\n",
            "/home/admin-gpu/miniconda3/envs/lightautoml/lib/python3.9/site-packages/lightautoml/transformers/categorical.py:1029: FutureWarning: The series.append method is deprecated and will be removed from pandas in a future version. Use pandas.concat instead.\n",
            "  cnts = cnts.append(Series([cnts.shape[0] + 1], index=[np.nan]))\n",
            "/home/admin-gpu/miniconda3/envs/lightautoml/lib/python3.9/site-packages/lightautoml/transformers/categorical.py:1029: FutureWarning: The series.append method is deprecated and will be removed from pandas in a future version. Use pandas.concat instead.\n",
            "  cnts = cnts.append(Series([cnts.shape[0] + 1], index=[np.nan]))\n",
            "/home/admin-gpu/miniconda3/envs/lightautoml/lib/python3.9/site-packages/lightautoml/transformers/categorical.py:1029: FutureWarning: The series.append method is deprecated and will be removed from pandas in a future version. Use pandas.concat instead.\n",
            "  cnts = cnts.append(Series([cnts.shape[0] + 1], index=[np.nan]))\n",
            "/home/admin-gpu/miniconda3/envs/lightautoml/lib/python3.9/site-packages/lightautoml/transformers/categorical.py:1029: FutureWarning: The series.append method is deprecated and will be removed from pandas in a future version. Use pandas.concat instead.\n",
            "  cnts = cnts.append(Series([cnts.shape[0] + 1], index=[np.nan]))\n",
            "/home/admin-gpu/miniconda3/envs/lightautoml/lib/python3.9/site-packages/lightautoml/transformers/categorical.py:1029: FutureWarning: The series.append method is deprecated and will be removed from pandas in a future version. Use pandas.concat instead.\n",
            "  cnts = cnts.append(Series([cnts.shape[0] + 1], index=[np.nan]))\n",
            "/home/admin-gpu/miniconda3/envs/lightautoml/lib/python3.9/site-packages/lightautoml/transformers/categorical.py:1029: FutureWarning: The series.append method is deprecated and will be removed from pandas in a future version. Use pandas.concat instead.\n",
            "  cnts = cnts.append(Series([cnts.shape[0] + 1], index=[np.nan]))\n",
            "/home/admin-gpu/miniconda3/envs/lightautoml/lib/python3.9/site-packages/lightautoml/transformers/categorical.py:1029: FutureWarning: The series.append method is deprecated and will be removed from pandas in a future version. Use pandas.concat instead.\n",
            "  cnts = cnts.append(Series([cnts.shape[0] + 1], index=[np.nan]))\n",
            "/home/admin-gpu/miniconda3/envs/lightautoml/lib/python3.9/site-packages/lightautoml/transformers/categorical.py:1029: FutureWarning: The series.append method is deprecated and will be removed from pandas in a future version. Use pandas.concat instead.\n",
            "  cnts = cnts.append(Series([cnts.shape[0] + 1], index=[np.nan]))\n",
            "/home/admin-gpu/miniconda3/envs/lightautoml/lib/python3.9/site-packages/lightautoml/transformers/categorical.py:1029: FutureWarning: The series.append method is deprecated and will be removed from pandas in a future version. Use pandas.concat instead.\n",
            "  cnts = cnts.append(Series([cnts.shape[0] + 1], index=[np.nan]))\n",
            "/home/admin-gpu/miniconda3/envs/lightautoml/lib/python3.9/site-packages/lightautoml/transformers/categorical.py:1029: FutureWarning: The series.append method is deprecated and will be removed from pandas in a future version. Use pandas.concat instead.\n",
            "  cnts = cnts.append(Series([cnts.shape[0] + 1], index=[np.nan]))\n",
            "/home/admin-gpu/miniconda3/envs/lightautoml/lib/python3.9/site-packages/lightautoml/transformers/categorical.py:1029: FutureWarning: The series.append method is deprecated and will be removed from pandas in a future version. Use pandas.concat instead.\n",
            "  cnts = cnts.append(Series([cnts.shape[0] + 1], index=[np.nan]))\n",
            "/home/admin-gpu/miniconda3/envs/lightautoml/lib/python3.9/site-packages/lightautoml/transformers/categorical.py:1029: FutureWarning: The series.append method is deprecated and will be removed from pandas in a future version. Use pandas.concat instead.\n",
            "  cnts = cnts.append(Series([cnts.shape[0] + 1], index=[np.nan]))\n",
            "/home/admin-gpu/miniconda3/envs/lightautoml/lib/python3.9/site-packages/lightautoml/transformers/categorical.py:1029: FutureWarning: The series.append method is deprecated and will be removed from pandas in a future version. Use pandas.concat instead.\n",
            "  cnts = cnts.append(Series([cnts.shape[0] + 1], index=[np.nan]))\n",
            "/home/admin-gpu/miniconda3/envs/lightautoml/lib/python3.9/site-packages/lightautoml/transformers/categorical.py:1029: FutureWarning: The series.append method is deprecated and will be removed from pandas in a future version. Use pandas.concat instead.\n",
            "  cnts = cnts.append(Series([cnts.shape[0] + 1], index=[np.nan]))\n",
            "/home/admin-gpu/miniconda3/envs/lightautoml/lib/python3.9/site-packages/lightautoml/transformers/categorical.py:1029: FutureWarning: The series.append method is deprecated and will be removed from pandas in a future version. Use pandas.concat instead.\n",
            "  cnts = cnts.append(Series([cnts.shape[0] + 1], index=[np.nan]))\n",
            "/home/admin-gpu/miniconda3/envs/lightautoml/lib/python3.9/site-packages/lightautoml/transformers/categorical.py:1029: FutureWarning: The series.append method is deprecated and will be removed from pandas in a future version. Use pandas.concat instead.\n",
            "  cnts = cnts.append(Series([cnts.shape[0] + 1], index=[np.nan]))\n",
            "/home/admin-gpu/miniconda3/envs/lightautoml/lib/python3.9/site-packages/lightautoml/transformers/categorical.py:1029: FutureWarning: The series.append method is deprecated and will be removed from pandas in a future version. Use pandas.concat instead.\n",
            "  cnts = cnts.append(Series([cnts.shape[0] + 1], index=[np.nan]))\n",
            "/home/admin-gpu/miniconda3/envs/lightautoml/lib/python3.9/site-packages/lightautoml/transformers/categorical.py:1029: FutureWarning: The series.append method is deprecated and will be removed from pandas in a future version. Use pandas.concat instead.\n",
            "  cnts = cnts.append(Series([cnts.shape[0] + 1], index=[np.nan]))\n",
            "/home/admin-gpu/miniconda3/envs/lightautoml/lib/python3.9/site-packages/lightautoml/transformers/categorical.py:1029: FutureWarning: The series.append method is deprecated and will be removed from pandas in a future version. Use pandas.concat instead.\n",
            "  cnts = cnts.append(Series([cnts.shape[0] + 1], index=[np.nan]))\n"
          ]
        },
        {
          "name": "stdout",
          "output_type": "stream",
          "text": [
            "[03:04:24] Linear model: C = 0.001 score = 0.8428533288836977\n",
            "[03:04:24] Linear model: C = 0.005 score = 0.8504305022526283\n",
            "[03:04:24] Linear model: C = 0.01 score = 0.852264308359753\n",
            "[03:04:24] Linear model: C = 0.05 score = 0.8551476722843316\n",
            "[03:04:24] Linear model: C = 0.1 score = 0.8559202402803271\n",
            "[03:04:24] Linear model: C = 0.5 score = 0.8564124812280993\n",
            "[03:04:24] Linear model: C = 1 score = 0.8564124812280993\n",
            "[03:04:24] Linear model: C = 5 score = 0.8564074753879525\n",
            "[03:04:24] ===== Start working with \u001b[1mfold 1\u001b[0m for \u001b[1mLvl_0_Pipe_0_Mod_0_LinearL2\u001b[0m =====\n",
            "[03:04:24] Linear model: C = 1e-05 score = 0.7987529534873645\n",
            "[03:04:24] Linear model: C = 5e-05 score = 0.809528808374074\n",
            "[03:04:24] Linear model: C = 0.0001 score = 0.8172387017652607\n",
            "[03:04:24] Linear model: C = 0.0005 score = 0.8354661761128274\n",
            "[03:04:24] Linear model: C = 0.001 score = 0.8407349642915464\n",
            "[03:04:24] Linear model: C = 0.005 score = 0.847246799902689\n",
            "[03:04:24] Linear model: C = 0.01 score = 0.84853150442065\n",
            "[03:04:24] Linear model: C = 0.05 score = 0.8508193115583415\n",
            "[03:04:24] Linear model: C = 0.1 score = 0.8515024877611483\n",
            "[03:04:24] Linear model: C = 0.5 score = 0.852922161236249\n",
            "[03:04:24] Linear model: C = 1 score = 0.852922161236249\n",
            "[03:04:24] Linear model: C = 5 score = 0.852922161236249\n",
            "[03:04:24] ===== Start working with \u001b[1mfold 2\u001b[0m for \u001b[1mLvl_0_Pipe_0_Mod_0_LinearL2\u001b[0m =====\n",
            "[03:04:24] Linear model: C = 1e-05 score = 0.7904344907395809\n",
            "[03:04:24] Linear model: C = 5e-05 score = 0.7992198236921777\n",
            "[03:04:24] Linear model: C = 0.0001 score = 0.8045801960126178\n",
            "[03:04:24] Linear model: C = 0.0005 score = 0.8161308799193105\n",
            "[03:04:24] Linear model: C = 0.001 score = 0.8193921905553914\n",
            "[03:04:24] Linear model: C = 0.005 score = 0.8257110842814178\n",
            "[03:04:24] Linear model: C = 0.01 score = 0.8274143801589408\n",
            "[03:04:24] Linear model: C = 0.05 score = 0.8292896755221353\n",
            "[03:04:24] Linear model: C = 0.1 score = 0.8296854413289716\n",
            "[03:04:24] Linear model: C = 0.5 score = 0.8301613622359265\n",
            "[03:04:24] Linear model: C = 1 score = 0.8301613622359265\n",
            "[03:04:24] Linear model: C = 5 score = 0.8301613622359265\n",
            "[03:04:24] Fitting \u001b[1mLvl_0_Pipe_0_Mod_0_LinearL2\u001b[0m finished. score = \u001b[1m0.8462565655427269\u001b[0m\n",
            "[03:04:24] \u001b[1mLvl_0_Pipe_0_Mod_0_LinearL2\u001b[0m fitting and predicting completed\n",
            "[03:04:24] Time left 10797.67 secs\n",
            "\n",
            "[03:04:24] Training until validation scores don't improve for 200 rounds\n",
            "[03:04:24] [100]\tvalid's auc: 0.853355\n",
            "[03:04:24] [200]\tvalid's auc: 0.854605\n",
            "[03:04:24] [300]\tvalid's auc: 0.855103\n",
            "[03:04:24] [400]\tvalid's auc: 0.854089\n",
            "[03:04:25] [500]\tvalid's auc: 0.852734\n",
            "[03:04:25] Early stopping, best iteration is:\n",
            "[301]\tvalid's auc: 0.85518\n",
            "[03:04:25] \u001b[1mSelector_LightGBM\u001b[0m fitting and predicting completed\n"
          ]
        },
        {
          "name": "stderr",
          "output_type": "stream",
          "text": [
            "/home/admin-gpu/miniconda3/envs/lightautoml/lib/python3.9/site-packages/lightautoml/transformers/categorical.py:1029: FutureWarning: The series.append method is deprecated and will be removed from pandas in a future version. Use pandas.concat instead.\n",
            "  cnts = cnts.append(Series([cnts.shape[0] + 1], index=[np.nan]))\n",
            "/home/admin-gpu/miniconda3/envs/lightautoml/lib/python3.9/site-packages/lightautoml/transformers/categorical.py:1029: FutureWarning: The series.append method is deprecated and will be removed from pandas in a future version. Use pandas.concat instead.\n",
            "  cnts = cnts.append(Series([cnts.shape[0] + 1], index=[np.nan]))\n",
            "/home/admin-gpu/miniconda3/envs/lightautoml/lib/python3.9/site-packages/lightautoml/transformers/categorical.py:1029: FutureWarning: The series.append method is deprecated and will be removed from pandas in a future version. Use pandas.concat instead.\n",
            "  cnts = cnts.append(Series([cnts.shape[0] + 1], index=[np.nan]))\n",
            "/home/admin-gpu/miniconda3/envs/lightautoml/lib/python3.9/site-packages/lightautoml/transformers/categorical.py:1029: FutureWarning: The series.append method is deprecated and will be removed from pandas in a future version. Use pandas.concat instead.\n",
            "  cnts = cnts.append(Series([cnts.shape[0] + 1], index=[np.nan]))\n",
            "/home/admin-gpu/miniconda3/envs/lightautoml/lib/python3.9/site-packages/lightautoml/transformers/categorical.py:1029: FutureWarning: The series.append method is deprecated and will be removed from pandas in a future version. Use pandas.concat instead.\n",
            "  cnts = cnts.append(Series([cnts.shape[0] + 1], index=[np.nan]))\n",
            "/home/admin-gpu/miniconda3/envs/lightautoml/lib/python3.9/site-packages/lightautoml/transformers/categorical.py:1029: FutureWarning: The series.append method is deprecated and will be removed from pandas in a future version. Use pandas.concat instead.\n",
            "  cnts = cnts.append(Series([cnts.shape[0] + 1], index=[np.nan]))\n",
            "/home/admin-gpu/miniconda3/envs/lightautoml/lib/python3.9/site-packages/lightautoml/transformers/categorical.py:1029: FutureWarning: The series.append method is deprecated and will be removed from pandas in a future version. Use pandas.concat instead.\n",
            "  cnts = cnts.append(Series([cnts.shape[0] + 1], index=[np.nan]))\n",
            "/home/admin-gpu/miniconda3/envs/lightautoml/lib/python3.9/site-packages/lightautoml/transformers/categorical.py:1029: FutureWarning: The series.append method is deprecated and will be removed from pandas in a future version. Use pandas.concat instead.\n",
            "  cnts = cnts.append(Series([cnts.shape[0] + 1], index=[np.nan]))\n",
            "/home/admin-gpu/miniconda3/envs/lightautoml/lib/python3.9/site-packages/lightautoml/transformers/categorical.py:1029: FutureWarning: The series.append method is deprecated and will be removed from pandas in a future version. Use pandas.concat instead.\n",
            "  cnts = cnts.append(Series([cnts.shape[0] + 1], index=[np.nan]))\n",
            "/home/admin-gpu/miniconda3/envs/lightautoml/lib/python3.9/site-packages/lightautoml/transformers/categorical.py:1029: FutureWarning: The series.append method is deprecated and will be removed from pandas in a future version. Use pandas.concat instead.\n",
            "  cnts = cnts.append(Series([cnts.shape[0] + 1], index=[np.nan]))\n",
            "/home/admin-gpu/miniconda3/envs/lightautoml/lib/python3.9/site-packages/lightautoml/transformers/categorical.py:1029: FutureWarning: The series.append method is deprecated and will be removed from pandas in a future version. Use pandas.concat instead.\n",
            "  cnts = cnts.append(Series([cnts.shape[0] + 1], index=[np.nan]))\n",
            "/home/admin-gpu/miniconda3/envs/lightautoml/lib/python3.9/site-packages/lightautoml/transformers/categorical.py:1029: FutureWarning: The series.append method is deprecated and will be removed from pandas in a future version. Use pandas.concat instead.\n",
            "  cnts = cnts.append(Series([cnts.shape[0] + 1], index=[np.nan]))\n",
            "/home/admin-gpu/miniconda3/envs/lightautoml/lib/python3.9/site-packages/lightautoml/transformers/categorical.py:1029: FutureWarning: The series.append method is deprecated and will be removed from pandas in a future version. Use pandas.concat instead.\n",
            "  cnts = cnts.append(Series([cnts.shape[0] + 1], index=[np.nan]))\n",
            "/home/admin-gpu/miniconda3/envs/lightautoml/lib/python3.9/site-packages/lightautoml/transformers/categorical.py:1029: FutureWarning: The series.append method is deprecated and will be removed from pandas in a future version. Use pandas.concat instead.\n",
            "  cnts = cnts.append(Series([cnts.shape[0] + 1], index=[np.nan]))\n",
            "/home/admin-gpu/miniconda3/envs/lightautoml/lib/python3.9/site-packages/lightautoml/transformers/categorical.py:1029: FutureWarning: The series.append method is deprecated and will be removed from pandas in a future version. Use pandas.concat instead.\n",
            "  cnts = cnts.append(Series([cnts.shape[0] + 1], index=[np.nan]))\n"
          ]
        },
        {
          "name": "stdout",
          "output_type": "stream",
          "text": [
            "[03:04:25] Start fitting \u001b[1mLvl_0_Pipe_1_Mod_0_LightGBM\u001b[0m ...\n",
            "[03:04:25] Training params: {'task': 'train', 'learning_rate': 0.01, 'num_leaves': 32, 'feature_fraction': 0.7, 'bagging_fraction': 0.7, 'bagging_freq': 1, 'max_depth': -1, 'verbosity': -1, 'reg_alpha': 0.5, 'reg_lambda': 0.0, 'min_split_gain': 0.0, 'zero_as_missing': False, 'num_threads': 4, 'max_bin': 255, 'min_data_in_bin': 3, 'num_trees': 3000, 'early_stopping_rounds': 200, 'random_state': 42}\n",
            "[03:04:25] ===== Start working with \u001b[1mfold 0\u001b[0m for \u001b[1mLvl_0_Pipe_1_Mod_0_LightGBM\u001b[0m =====\n",
            "[03:04:25] Training until validation scores don't improve for 200 rounds\n",
            "[03:04:25] [100]\tvalid's auc: 0.853119\n",
            "[03:04:25] [200]\tvalid's auc: 0.854203\n",
            "[03:04:25] [300]\tvalid's auc: 0.85367\n"
          ]
        },
        {
          "name": "stderr",
          "output_type": "stream",
          "text": [
            "/home/admin-gpu/miniconda3/envs/lightautoml/lib/python3.9/site-packages/lightautoml/transformers/categorical.py:1029: FutureWarning: The series.append method is deprecated and will be removed from pandas in a future version. Use pandas.concat instead.\n",
            "  cnts = cnts.append(Series([cnts.shape[0] + 1], index=[np.nan]))\n",
            "/home/admin-gpu/miniconda3/envs/lightautoml/lib/python3.9/site-packages/lightautoml/transformers/categorical.py:1029: FutureWarning: The series.append method is deprecated and will be removed from pandas in a future version. Use pandas.concat instead.\n",
            "  cnts = cnts.append(Series([cnts.shape[0] + 1], index=[np.nan]))\n",
            "/home/admin-gpu/miniconda3/envs/lightautoml/lib/python3.9/site-packages/lightautoml/transformers/categorical.py:1029: FutureWarning: The series.append method is deprecated and will be removed from pandas in a future version. Use pandas.concat instead.\n",
            "  cnts = cnts.append(Series([cnts.shape[0] + 1], index=[np.nan]))\n",
            "/home/admin-gpu/miniconda3/envs/lightautoml/lib/python3.9/site-packages/lightautoml/transformers/categorical.py:1029: FutureWarning: The series.append method is deprecated and will be removed from pandas in a future version. Use pandas.concat instead.\n",
            "  cnts = cnts.append(Series([cnts.shape[0] + 1], index=[np.nan]))\n",
            "/home/admin-gpu/miniconda3/envs/lightautoml/lib/python3.9/site-packages/lightautoml/transformers/categorical.py:1029: FutureWarning: The series.append method is deprecated and will be removed from pandas in a future version. Use pandas.concat instead.\n",
            "  cnts = cnts.append(Series([cnts.shape[0] + 1], index=[np.nan]))\n",
            "/home/admin-gpu/miniconda3/envs/lightautoml/lib/python3.9/site-packages/lightautoml/transformers/categorical.py:1029: FutureWarning: The series.append method is deprecated and will be removed from pandas in a future version. Use pandas.concat instead.\n",
            "  cnts = cnts.append(Series([cnts.shape[0] + 1], index=[np.nan]))\n"
          ]
        },
        {
          "name": "stdout",
          "output_type": "stream",
          "text": [
            "[03:04:25] Early stopping, best iteration is:\n",
            "[198]\tvalid's auc: 0.854308\n",
            "[03:04:25] ===== Start working with \u001b[1mfold 1\u001b[0m for \u001b[1mLvl_0_Pipe_1_Mod_0_LightGBM\u001b[0m =====\n",
            "[03:04:25] Training until validation scores don't improve for 200 rounds\n",
            "[03:04:25] [100]\tvalid's auc: 0.845685\n",
            "[03:04:25] [200]\tvalid's auc: 0.846623\n",
            "[03:04:25] [300]\tvalid's auc: 0.8462\n",
            "[03:04:25] Early stopping, best iteration is:\n",
            "[193]\tvalid's auc: 0.846779\n",
            "[03:04:25] ===== Start working with \u001b[1mfold 2\u001b[0m for \u001b[1mLvl_0_Pipe_1_Mod_0_LightGBM\u001b[0m =====\n",
            "[03:04:25] Training until validation scores don't improve for 200 rounds\n",
            "[03:04:25] [100]\tvalid's auc: 0.823774\n",
            "[03:04:25] [200]\tvalid's auc: 0.824217\n",
            "[03:04:25] [300]\tvalid's auc: 0.824014\n",
            "[03:04:25] Early stopping, best iteration is:\n",
            "[155]\tvalid's auc: 0.824654\n",
            "[03:04:25] Fitting \u001b[1mLvl_0_Pipe_1_Mod_0_LightGBM\u001b[0m finished. score = \u001b[1m0.8415661507160928\u001b[0m\n",
            "[03:04:25] \u001b[1mLvl_0_Pipe_1_Mod_0_LightGBM\u001b[0m fitting and predicting completed\n",
            "[03:04:25] Start fitting \u001b[1mLvl_0_Pipe_1_Mod_1_CatBoost\u001b[0m ...\n",
            "[03:04:25] Training params: {'task_type': 'GPU', 'thread_count': 4, 'random_seed': 42, 'num_trees': 500, 'learning_rate': 0.02, 'l2_leaf_reg': 0.01, 'bootstrap_type': 'Bernoulli', 'grow_policy': 'SymmetricTree', 'max_depth': 5, 'min_data_in_leaf': 1, 'one_hot_max_size': 10, 'fold_permutation_block': 1, 'boosting_type': 'Plain', 'boost_from_average': True, 'od_type': 'Iter', 'od_wait': 100, 'max_bin': 32, 'feature_border_type': 'GreedyLogSum', 'nan_mode': 'Min', 'verbose': 100, 'allow_writing_files': False, 'devices': '0'}\n",
            "[03:04:25] ===== Start working with \u001b[1mfold 0\u001b[0m for \u001b[1mLvl_0_Pipe_1_Mod_1_CatBoost\u001b[0m =====\n",
            "[03:04:25] 0:\ttest: 0.8225096\tbest: 0.8225096 (0)\ttotal: 2.75ms\tremaining: 1.37s\n"
          ]
        },
        {
          "name": "stderr",
          "output_type": "stream",
          "text": [
            "Default metric period is 5 because AUC is/are not implemented for GPU\n"
          ]
        },
        {
          "name": "stdout",
          "output_type": "stream",
          "text": [
            "[03:04:25] 100:\ttest: 0.8539872\tbest: 0.8540439 (99)\ttotal: 223ms\tremaining: 880ms\n",
            "[03:04:26] 200:\ttest: 0.8561029\tbest: 0.8561080 (198)\ttotal: 443ms\tremaining: 658ms\n",
            "[03:04:26] 300:\ttest: 0.8564050\tbest: 0.8568856 (241)\ttotal: 663ms\tremaining: 439ms\n",
            "[03:04:26] bestTest = 0.8568855524\n",
            "[03:04:26] bestIteration = 241\n",
            "[03:04:26] Shrink model to first 242 iterations.\n",
            "[03:04:26] ===== Start working with \u001b[1mfold 1\u001b[0m for \u001b[1mLvl_0_Pipe_1_Mod_1_CatBoost\u001b[0m =====\n",
            "[03:04:27] 0:\ttest: 0.8125589\tbest: 0.8125589 (0)\ttotal: 2.74ms\tremaining: 1.37s\n"
          ]
        },
        {
          "name": "stderr",
          "output_type": "stream",
          "text": [
            "Default metric period is 5 because AUC is/are not implemented for GPU\n"
          ]
        },
        {
          "name": "stdout",
          "output_type": "stream",
          "text": [
            "[03:04:27] 100:\ttest: 0.8492347\tbest: 0.8495879 (96)\ttotal: 219ms\tremaining: 866ms\n",
            "[03:04:27] 200:\ttest: 0.8506460\tbest: 0.8507502 (187)\ttotal: 431ms\tremaining: 641ms\n",
            "[03:04:27] 300:\ttest: 0.8504627\tbest: 0.8508576 (219)\ttotal: 646ms\tremaining: 427ms\n",
            "[03:04:27] bestTest = 0.8508576453\n",
            "[03:04:27] bestIteration = 219\n",
            "[03:04:27] Shrink model to first 220 iterations.\n",
            "[03:04:27] ===== Start working with \u001b[1mfold 2\u001b[0m for \u001b[1mLvl_0_Pipe_1_Mod_1_CatBoost\u001b[0m =====\n",
            "[03:04:28] 0:\ttest: 0.8076737\tbest: 0.8076737 (0)\ttotal: 2.7ms\tremaining: 1.35s\n"
          ]
        },
        {
          "name": "stderr",
          "output_type": "stream",
          "text": [
            "Default metric period is 5 because AUC is/are not implemented for GPU\n"
          ]
        },
        {
          "name": "stdout",
          "output_type": "stream",
          "text": [
            "[03:04:28] 100:\ttest: 0.8246390\tbest: 0.8250314 (97)\ttotal: 223ms\tremaining: 882ms\n",
            "[03:04:28] 200:\ttest: 0.8271305\tbest: 0.8272841 (162)\ttotal: 444ms\tremaining: 661ms\n",
            "[03:04:29] 300:\ttest: 0.8273184\tbest: 0.8281483 (237)\ttotal: 668ms\tremaining: 442ms\n",
            "[03:04:29] bestTest = 0.8281483054\n",
            "[03:04:29] bestIteration = 237\n",
            "[03:04:29] Shrink model to first 238 iterations.\n",
            "[03:04:29] Fitting \u001b[1mLvl_0_Pipe_1_Mod_1_CatBoost\u001b[0m finished. score = \u001b[1m0.8446381648214439\u001b[0m\n",
            "[03:04:29] \u001b[1mLvl_0_Pipe_1_Mod_1_CatBoost\u001b[0m fitting and predicting completed\n",
            "[03:04:29] Time left 10793.37 secs\n",
            "\n",
            "[03:04:29] \u001b[1mLayer 1 training completed.\u001b[0m\n",
            "\n",
            "[03:04:29] Blending: optimization starts with equal weights and score \u001b[1m0.8478701468368246\u001b[0m\n",
            "[03:04:29] Blending: iteration \u001b[1m0\u001b[0m: score = \u001b[1m0.8484671997200284\u001b[0m, weights = \u001b[1m[0.5191737  0.27894297 0.20188339]\u001b[0m\n",
            "[03:04:29] Blending: iteration \u001b[1m1\u001b[0m: score = \u001b[1m0.8484675704451964\u001b[0m, weights = \u001b[1m[0.51948106 0.27910814 0.20141076]\u001b[0m\n",
            "[03:04:29] Blending: iteration \u001b[1m2\u001b[0m: score = \u001b[1m0.8484675704451964\u001b[0m, weights = \u001b[1m[0.51948106 0.27910814 0.20141076]\u001b[0m\n",
            "[03:04:29] Blending: no score update. Terminated\n",
            "\n",
            "[03:04:29] \u001b[1mAutoml preset training completed in 6.71 seconds\u001b[0m\n",
            "\n",
            "[03:04:29] Model description:\n",
            "Final prediction for new objects (level 0) = \n",
            "\t 0.51948 * (3 averaged models Lvl_0_Pipe_0_Mod_0_LinearL2) +\n",
            "\t 0.27911 * (3 averaged models Lvl_0_Pipe_1_Mod_0_LightGBM) +\n",
            "\t 0.20141 * (3 averaged models Lvl_0_Pipe_1_Mod_1_CatBoost) \n",
            "\n"
          ]
        }
      ],
      "source": [
        "# обучение этим подходом на всех имеющиеся обучающих данных\n",
        "oof_pred = automl.fit_predict(train, roles = roles, verbose=4)"
      ]
    },
    {
      "attachments": {},
      "cell_type": "markdown",
      "metadata": {},
      "source": [
        "### Сохраним полученный ансамбль моделей в файл"
      ]
    },
    {
      "cell_type": "code",
      "execution_count": 37,
      "metadata": {},
      "outputs": [],
      "source": [
        "model_path = 'model/lightautoml_model_1_final.pkl'\n",
        "oof_pred_path = 'model/lightautoml_model_1_oof_pred_final.pkl'"
      ]
    },
    {
      "cell_type": "code",
      "execution_count": 38,
      "metadata": {},
      "outputs": [
        {
          "data": {
            "text/plain": [
              "['model/lightautoml_model_1_oof_pred_final.pkl']"
            ]
          },
          "execution_count": 38,
          "metadata": {},
          "output_type": "execute_result"
        }
      ],
      "source": [
        "# сохраним полученный ансамбль моделей и его предсказания на тестовой выборке\n",
        "joblib.dump(automl, model_path)\n",
        "joblib.dump(oof_pred, oof_pred_path) "
      ]
    },
    {
      "attachments": {},
      "cell_type": "markdown",
      "metadata": {},
      "source": [
        "### Загрузим сохраненую ранее модель из файла"
      ]
    },
    {
      "cell_type": "code",
      "execution_count": 39,
      "metadata": {},
      "outputs": [],
      "source": [
        "automl = joblib.load(model_path)\n",
        "oof_pred = joblib.load(oof_pred_path)"
      ]
    },
    {
      "cell_type": "code",
      "execution_count": 40,
      "metadata": {},
      "outputs": [
        {
          "name": "stdout",
          "output_type": "stream",
          "text": [
            "Кросс валидация(вся выборка) roc_auc_score: 0.7101970923283616\n"
          ]
        }
      ],
      "source": [
        "# оценка полученной метрики на всем наборе данных\n",
        "# теперь мы можем оценить полученные метрики только по кросс валидации\n",
        "cross_val_train_y_true = train['Churn'].values\n",
        "cross_val_train_pred = (oof_pred.data[:, 0] > porog).astype(int)\n",
        "\n",
        "metric = roc_auc_score(cross_val_train_y_true, cross_val_train_pred)\n",
        "print(f\"Кросс валидация(вся выборка) roc_auc_score: {metric}\")\n"
      ]
    },
    {
      "attachments": {},
      "cell_type": "markdown",
      "metadata": {
        "id": "koVlQwT9kdMU"
      },
      "source": [
        "## Предсказание ответа для тестового набора данных"
      ]
    },
    {
      "cell_type": "code",
      "execution_count": 41,
      "metadata": {
        "id": "BA3CxJ1nkfkJ"
      },
      "outputs": [],
      "source": [
        "# предсказание ансамблем моделей на тестовых данных\n",
        "test_pred = automl.predict(test)"
      ]
    },
    {
      "attachments": {},
      "cell_type": "markdown",
      "metadata": {},
      "source": [
        "### Сделаем файл sabmita"
      ]
    },
    {
      "cell_type": "code",
      "execution_count": 42,
      "metadata": {},
      "outputs": [],
      "source": [
        "submission_path = 'lightautoml_model_final_submission.csv'"
      ]
    },
    {
      "cell_type": "code",
      "execution_count": 43,
      "metadata": {},
      "outputs": [
        {
          "data": {
            "text/plain": [
              "array([0, 1, 1, ..., 1, 1, 0])"
            ]
          },
          "execution_count": 43,
          "metadata": {},
          "output_type": "execute_result"
        }
      ],
      "source": [
        "y_pred_test = (test_pred.data[:, 0] > porog).astype(int)\n",
        "y_pred_test"
      ]
    },
    {
      "cell_type": "code",
      "execution_count": 44,
      "metadata": {
        "colab": {
          "base_uri": "https://localhost:8080/",
          "height": 17
        },
        "id": "tBObQdM4kh6c",
        "outputId": "81033b22-c404-4cde-f4fa-7a9d3d27a070"
      },
      "outputs": [],
      "source": [
        "y_pred_test = pd.DataFrame(y_pred_test, columns=['Churn'])\n",
        "y_pred_test = y_pred_test.reset_index()\n",
        "\n",
        "y_pred_test.to_csv(submission_path, index=False)"
      ]
    }
  ],
  "metadata": {
    "colab": {
      "name": "Samsung. Baseline. Спрос на бронирование отелей.ipynb",
      "provenance": []
    },
    "kernelspec": {
      "display_name": "Python 3.9.12 ('sber_lama')",
      "language": "python",
      "name": "python3"
    },
    "language_info": {
      "codemirror_mode": {
        "name": "ipython",
        "version": 3
      },
      "file_extension": ".py",
      "mimetype": "text/x-python",
      "name": "python",
      "nbconvert_exporter": "python",
      "pygments_lexer": "ipython3",
      "version": "3.9.16"
    },
    "vscode": {
      "interpreter": {
        "hash": "901158d8cd2db934fb9192b2a062c20c24f00bed87efea9fcd6e00355046a3d1"
      }
    }
  },
  "nbformat": 4,
  "nbformat_minor": 0
}
